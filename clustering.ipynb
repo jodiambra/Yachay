{
 "cells": [
  {
   "cell_type": "markdown",
   "metadata": {},
   "source": [
    "## K Means"
   ]
  },
  {
   "cell_type": "code",
   "execution_count": 13,
   "metadata": {},
   "outputs": [],
   "source": [
    "import pandas as pd\n",
    "import plotly_express as px \n",
    "from sklearn.cluster import KMeans\n",
    "import seaborn as sns\n",
    "from sklearn.neighbors import KNeighborsRegressor\n",
    "import numpy as np  \n",
    "import plotly.express as px\n",
    "import pandas as pd\n",
    "from sklearn.model_selection import train_test_split\n"
   ]
  },
  {
   "cell_type": "code",
   "execution_count": 14,
   "metadata": {},
   "outputs": [],
   "source": [
    "df = pd.read_csv('processed data/df.csv')"
   ]
  },
  {
   "cell_type": "code",
   "execution_count": 15,
   "metadata": {},
   "outputs": [],
   "source": [
    "data = df[['lat', 'lng']]"
   ]
  },
  {
   "cell_type": "code",
   "execution_count": 6,
   "metadata": {},
   "outputs": [
    {
     "name": "stderr",
     "output_type": "stream",
     "text": [
      "c:\\Users\\XIX\\anaconda3\\lib\\site-packages\\sklearn\\cluster\\_kmeans.py:870: FutureWarning:\n",
      "\n",
      "The default value of `n_init` will change from 10 to 'auto' in 1.4. Set the value of `n_init` explicitly to suppress the warning\n",
      "\n",
      "c:\\Users\\XIX\\anaconda3\\lib\\site-packages\\sklearn\\cluster\\_kmeans.py:870: FutureWarning:\n",
      "\n",
      "The default value of `n_init` will change from 10 to 'auto' in 1.4. Set the value of `n_init` explicitly to suppress the warning\n",
      "\n",
      "c:\\Users\\XIX\\anaconda3\\lib\\site-packages\\sklearn\\cluster\\_kmeans.py:870: FutureWarning:\n",
      "\n",
      "The default value of `n_init` will change from 10 to 'auto' in 1.4. Set the value of `n_init` explicitly to suppress the warning\n",
      "\n",
      "c:\\Users\\XIX\\anaconda3\\lib\\site-packages\\sklearn\\cluster\\_kmeans.py:870: FutureWarning:\n",
      "\n",
      "The default value of `n_init` will change from 10 to 'auto' in 1.4. Set the value of `n_init` explicitly to suppress the warning\n",
      "\n",
      "c:\\Users\\XIX\\anaconda3\\lib\\site-packages\\sklearn\\cluster\\_kmeans.py:870: FutureWarning:\n",
      "\n",
      "The default value of `n_init` will change from 10 to 'auto' in 1.4. Set the value of `n_init` explicitly to suppress the warning\n",
      "\n",
      "c:\\Users\\XIX\\anaconda3\\lib\\site-packages\\sklearn\\cluster\\_kmeans.py:870: FutureWarning:\n",
      "\n",
      "The default value of `n_init` will change from 10 to 'auto' in 1.4. Set the value of `n_init` explicitly to suppress the warning\n",
      "\n",
      "c:\\Users\\XIX\\anaconda3\\lib\\site-packages\\sklearn\\cluster\\_kmeans.py:870: FutureWarning:\n",
      "\n",
      "The default value of `n_init` will change from 10 to 'auto' in 1.4. Set the value of `n_init` explicitly to suppress the warning\n",
      "\n",
      "c:\\Users\\XIX\\anaconda3\\lib\\site-packages\\sklearn\\cluster\\_kmeans.py:870: FutureWarning:\n",
      "\n",
      "The default value of `n_init` will change from 10 to 'auto' in 1.4. Set the value of `n_init` explicitly to suppress the warning\n",
      "\n"
     ]
    },
    {
     "data": {
      "application/vnd.plotly.v1+json": {
       "config": {
        "plotlyServerURL": "https://plot.ly"
       },
       "data": [
        {
         "hovertemplate": "K=%{x}<br>Distortion=%{y}<extra></extra>",
         "legendgroup": "",
         "line": {
          "color": "#636efa",
          "dash": "solid"
         },
         "marker": {
          "symbol": "circle"
         },
         "mode": "lines",
         "name": "",
         "orientation": "v",
         "showlegend": false,
         "type": "scatter",
         "x": [
          2,
          3,
          4,
          5,
          6,
          7,
          8,
          9
         ],
         "xaxis": "x",
         "y": [
          81295857.81613374,
          44149888.31153808,
          33981038.385326624,
          26836454.489779554,
          21922261.502286673,
          17096374.621535756,
          14390395.65533322,
          11868774.433203965
         ],
         "yaxis": "y"
        }
       ],
       "layout": {
        "legend": {
         "tracegroupgap": 0
        },
        "template": {
         "data": {
          "bar": [
           {
            "error_x": {
             "color": "#2a3f5f"
            },
            "error_y": {
             "color": "#2a3f5f"
            },
            "marker": {
             "line": {
              "color": "#E5ECF6",
              "width": 0.5
             },
             "pattern": {
              "fillmode": "overlay",
              "size": 10,
              "solidity": 0.2
             }
            },
            "type": "bar"
           }
          ],
          "barpolar": [
           {
            "marker": {
             "line": {
              "color": "#E5ECF6",
              "width": 0.5
             },
             "pattern": {
              "fillmode": "overlay",
              "size": 10,
              "solidity": 0.2
             }
            },
            "type": "barpolar"
           }
          ],
          "carpet": [
           {
            "aaxis": {
             "endlinecolor": "#2a3f5f",
             "gridcolor": "white",
             "linecolor": "white",
             "minorgridcolor": "white",
             "startlinecolor": "#2a3f5f"
            },
            "baxis": {
             "endlinecolor": "#2a3f5f",
             "gridcolor": "white",
             "linecolor": "white",
             "minorgridcolor": "white",
             "startlinecolor": "#2a3f5f"
            },
            "type": "carpet"
           }
          ],
          "choropleth": [
           {
            "colorbar": {
             "outlinewidth": 0,
             "ticks": ""
            },
            "type": "choropleth"
           }
          ],
          "contour": [
           {
            "colorbar": {
             "outlinewidth": 0,
             "ticks": ""
            },
            "colorscale": [
             [
              0,
              "#0d0887"
             ],
             [
              0.1111111111111111,
              "#46039f"
             ],
             [
              0.2222222222222222,
              "#7201a8"
             ],
             [
              0.3333333333333333,
              "#9c179e"
             ],
             [
              0.4444444444444444,
              "#bd3786"
             ],
             [
              0.5555555555555556,
              "#d8576b"
             ],
             [
              0.6666666666666666,
              "#ed7953"
             ],
             [
              0.7777777777777778,
              "#fb9f3a"
             ],
             [
              0.8888888888888888,
              "#fdca26"
             ],
             [
              1,
              "#f0f921"
             ]
            ],
            "type": "contour"
           }
          ],
          "contourcarpet": [
           {
            "colorbar": {
             "outlinewidth": 0,
             "ticks": ""
            },
            "type": "contourcarpet"
           }
          ],
          "heatmap": [
           {
            "colorbar": {
             "outlinewidth": 0,
             "ticks": ""
            },
            "colorscale": [
             [
              0,
              "#0d0887"
             ],
             [
              0.1111111111111111,
              "#46039f"
             ],
             [
              0.2222222222222222,
              "#7201a8"
             ],
             [
              0.3333333333333333,
              "#9c179e"
             ],
             [
              0.4444444444444444,
              "#bd3786"
             ],
             [
              0.5555555555555556,
              "#d8576b"
             ],
             [
              0.6666666666666666,
              "#ed7953"
             ],
             [
              0.7777777777777778,
              "#fb9f3a"
             ],
             [
              0.8888888888888888,
              "#fdca26"
             ],
             [
              1,
              "#f0f921"
             ]
            ],
            "type": "heatmap"
           }
          ],
          "heatmapgl": [
           {
            "colorbar": {
             "outlinewidth": 0,
             "ticks": ""
            },
            "colorscale": [
             [
              0,
              "#0d0887"
             ],
             [
              0.1111111111111111,
              "#46039f"
             ],
             [
              0.2222222222222222,
              "#7201a8"
             ],
             [
              0.3333333333333333,
              "#9c179e"
             ],
             [
              0.4444444444444444,
              "#bd3786"
             ],
             [
              0.5555555555555556,
              "#d8576b"
             ],
             [
              0.6666666666666666,
              "#ed7953"
             ],
             [
              0.7777777777777778,
              "#fb9f3a"
             ],
             [
              0.8888888888888888,
              "#fdca26"
             ],
             [
              1,
              "#f0f921"
             ]
            ],
            "type": "heatmapgl"
           }
          ],
          "histogram": [
           {
            "marker": {
             "pattern": {
              "fillmode": "overlay",
              "size": 10,
              "solidity": 0.2
             }
            },
            "type": "histogram"
           }
          ],
          "histogram2d": [
           {
            "colorbar": {
             "outlinewidth": 0,
             "ticks": ""
            },
            "colorscale": [
             [
              0,
              "#0d0887"
             ],
             [
              0.1111111111111111,
              "#46039f"
             ],
             [
              0.2222222222222222,
              "#7201a8"
             ],
             [
              0.3333333333333333,
              "#9c179e"
             ],
             [
              0.4444444444444444,
              "#bd3786"
             ],
             [
              0.5555555555555556,
              "#d8576b"
             ],
             [
              0.6666666666666666,
              "#ed7953"
             ],
             [
              0.7777777777777778,
              "#fb9f3a"
             ],
             [
              0.8888888888888888,
              "#fdca26"
             ],
             [
              1,
              "#f0f921"
             ]
            ],
            "type": "histogram2d"
           }
          ],
          "histogram2dcontour": [
           {
            "colorbar": {
             "outlinewidth": 0,
             "ticks": ""
            },
            "colorscale": [
             [
              0,
              "#0d0887"
             ],
             [
              0.1111111111111111,
              "#46039f"
             ],
             [
              0.2222222222222222,
              "#7201a8"
             ],
             [
              0.3333333333333333,
              "#9c179e"
             ],
             [
              0.4444444444444444,
              "#bd3786"
             ],
             [
              0.5555555555555556,
              "#d8576b"
             ],
             [
              0.6666666666666666,
              "#ed7953"
             ],
             [
              0.7777777777777778,
              "#fb9f3a"
             ],
             [
              0.8888888888888888,
              "#fdca26"
             ],
             [
              1,
              "#f0f921"
             ]
            ],
            "type": "histogram2dcontour"
           }
          ],
          "mesh3d": [
           {
            "colorbar": {
             "outlinewidth": 0,
             "ticks": ""
            },
            "type": "mesh3d"
           }
          ],
          "parcoords": [
           {
            "line": {
             "colorbar": {
              "outlinewidth": 0,
              "ticks": ""
             }
            },
            "type": "parcoords"
           }
          ],
          "pie": [
           {
            "automargin": true,
            "type": "pie"
           }
          ],
          "scatter": [
           {
            "fillpattern": {
             "fillmode": "overlay",
             "size": 10,
             "solidity": 0.2
            },
            "type": "scatter"
           }
          ],
          "scatter3d": [
           {
            "line": {
             "colorbar": {
              "outlinewidth": 0,
              "ticks": ""
             }
            },
            "marker": {
             "colorbar": {
              "outlinewidth": 0,
              "ticks": ""
             }
            },
            "type": "scatter3d"
           }
          ],
          "scattercarpet": [
           {
            "marker": {
             "colorbar": {
              "outlinewidth": 0,
              "ticks": ""
             }
            },
            "type": "scattercarpet"
           }
          ],
          "scattergeo": [
           {
            "marker": {
             "colorbar": {
              "outlinewidth": 0,
              "ticks": ""
             }
            },
            "type": "scattergeo"
           }
          ],
          "scattergl": [
           {
            "marker": {
             "colorbar": {
              "outlinewidth": 0,
              "ticks": ""
             }
            },
            "type": "scattergl"
           }
          ],
          "scattermapbox": [
           {
            "marker": {
             "colorbar": {
              "outlinewidth": 0,
              "ticks": ""
             }
            },
            "type": "scattermapbox"
           }
          ],
          "scatterpolar": [
           {
            "marker": {
             "colorbar": {
              "outlinewidth": 0,
              "ticks": ""
             }
            },
            "type": "scatterpolar"
           }
          ],
          "scatterpolargl": [
           {
            "marker": {
             "colorbar": {
              "outlinewidth": 0,
              "ticks": ""
             }
            },
            "type": "scatterpolargl"
           }
          ],
          "scatterternary": [
           {
            "marker": {
             "colorbar": {
              "outlinewidth": 0,
              "ticks": ""
             }
            },
            "type": "scatterternary"
           }
          ],
          "surface": [
           {
            "colorbar": {
             "outlinewidth": 0,
             "ticks": ""
            },
            "colorscale": [
             [
              0,
              "#0d0887"
             ],
             [
              0.1111111111111111,
              "#46039f"
             ],
             [
              0.2222222222222222,
              "#7201a8"
             ],
             [
              0.3333333333333333,
              "#9c179e"
             ],
             [
              0.4444444444444444,
              "#bd3786"
             ],
             [
              0.5555555555555556,
              "#d8576b"
             ],
             [
              0.6666666666666666,
              "#ed7953"
             ],
             [
              0.7777777777777778,
              "#fb9f3a"
             ],
             [
              0.8888888888888888,
              "#fdca26"
             ],
             [
              1,
              "#f0f921"
             ]
            ],
            "type": "surface"
           }
          ],
          "table": [
           {
            "cells": {
             "fill": {
              "color": "#EBF0F8"
             },
             "line": {
              "color": "white"
             }
            },
            "header": {
             "fill": {
              "color": "#C8D4E3"
             },
             "line": {
              "color": "white"
             }
            },
            "type": "table"
           }
          ]
         },
         "layout": {
          "annotationdefaults": {
           "arrowcolor": "#2a3f5f",
           "arrowhead": 0,
           "arrowwidth": 1
          },
          "autotypenumbers": "strict",
          "coloraxis": {
           "colorbar": {
            "outlinewidth": 0,
            "ticks": ""
           }
          },
          "colorscale": {
           "diverging": [
            [
             0,
             "#8e0152"
            ],
            [
             0.1,
             "#c51b7d"
            ],
            [
             0.2,
             "#de77ae"
            ],
            [
             0.3,
             "#f1b6da"
            ],
            [
             0.4,
             "#fde0ef"
            ],
            [
             0.5,
             "#f7f7f7"
            ],
            [
             0.6,
             "#e6f5d0"
            ],
            [
             0.7,
             "#b8e186"
            ],
            [
             0.8,
             "#7fbc41"
            ],
            [
             0.9,
             "#4d9221"
            ],
            [
             1,
             "#276419"
            ]
           ],
           "sequential": [
            [
             0,
             "#0d0887"
            ],
            [
             0.1111111111111111,
             "#46039f"
            ],
            [
             0.2222222222222222,
             "#7201a8"
            ],
            [
             0.3333333333333333,
             "#9c179e"
            ],
            [
             0.4444444444444444,
             "#bd3786"
            ],
            [
             0.5555555555555556,
             "#d8576b"
            ],
            [
             0.6666666666666666,
             "#ed7953"
            ],
            [
             0.7777777777777778,
             "#fb9f3a"
            ],
            [
             0.8888888888888888,
             "#fdca26"
            ],
            [
             1,
             "#f0f921"
            ]
           ],
           "sequentialminus": [
            [
             0,
             "#0d0887"
            ],
            [
             0.1111111111111111,
             "#46039f"
            ],
            [
             0.2222222222222222,
             "#7201a8"
            ],
            [
             0.3333333333333333,
             "#9c179e"
            ],
            [
             0.4444444444444444,
             "#bd3786"
            ],
            [
             0.5555555555555556,
             "#d8576b"
            ],
            [
             0.6666666666666666,
             "#ed7953"
            ],
            [
             0.7777777777777778,
             "#fb9f3a"
            ],
            [
             0.8888888888888888,
             "#fdca26"
            ],
            [
             1,
             "#f0f921"
            ]
           ]
          },
          "colorway": [
           "#636efa",
           "#EF553B",
           "#00cc96",
           "#ab63fa",
           "#FFA15A",
           "#19d3f3",
           "#FF6692",
           "#B6E880",
           "#FF97FF",
           "#FECB52"
          ],
          "font": {
           "color": "#2a3f5f"
          },
          "geo": {
           "bgcolor": "white",
           "lakecolor": "white",
           "landcolor": "#E5ECF6",
           "showlakes": true,
           "showland": true,
           "subunitcolor": "white"
          },
          "hoverlabel": {
           "align": "left"
          },
          "hovermode": "closest",
          "mapbox": {
           "style": "light"
          },
          "paper_bgcolor": "white",
          "plot_bgcolor": "#E5ECF6",
          "polar": {
           "angularaxis": {
            "gridcolor": "white",
            "linecolor": "white",
            "ticks": ""
           },
           "bgcolor": "#E5ECF6",
           "radialaxis": {
            "gridcolor": "white",
            "linecolor": "white",
            "ticks": ""
           }
          },
          "scene": {
           "xaxis": {
            "backgroundcolor": "#E5ECF6",
            "gridcolor": "white",
            "gridwidth": 2,
            "linecolor": "white",
            "showbackground": true,
            "ticks": "",
            "zerolinecolor": "white"
           },
           "yaxis": {
            "backgroundcolor": "#E5ECF6",
            "gridcolor": "white",
            "gridwidth": 2,
            "linecolor": "white",
            "showbackground": true,
            "ticks": "",
            "zerolinecolor": "white"
           },
           "zaxis": {
            "backgroundcolor": "#E5ECF6",
            "gridcolor": "white",
            "gridwidth": 2,
            "linecolor": "white",
            "showbackground": true,
            "ticks": "",
            "zerolinecolor": "white"
           }
          },
          "shapedefaults": {
           "line": {
            "color": "#2a3f5f"
           }
          },
          "ternary": {
           "aaxis": {
            "gridcolor": "white",
            "linecolor": "white",
            "ticks": ""
           },
           "baxis": {
            "gridcolor": "white",
            "linecolor": "white",
            "ticks": ""
           },
           "bgcolor": "#E5ECF6",
           "caxis": {
            "gridcolor": "white",
            "linecolor": "white",
            "ticks": ""
           }
          },
          "title": {
           "x": 0.05
          },
          "xaxis": {
           "automargin": true,
           "gridcolor": "white",
           "linecolor": "white",
           "ticks": "",
           "title": {
            "standoff": 15
           },
           "zerolinecolor": "white",
           "zerolinewidth": 2
          },
          "yaxis": {
           "automargin": true,
           "gridcolor": "white",
           "linecolor": "white",
           "ticks": "",
           "title": {
            "standoff": 15
           },
           "zerolinecolor": "white",
           "zerolinewidth": 2
          }
         }
        },
        "title": {
         "text": "Elbow plot"
        },
        "xaxis": {
         "anchor": "y",
         "domain": [
          0,
          1
         ],
         "title": {
          "text": "K"
         }
        },
        "yaxis": {
         "anchor": "x",
         "domain": [
          0,
          1
         ],
         "title": {
          "text": "Distortion"
         }
        }
       }
      }
     },
     "metadata": {},
     "output_type": "display_data"
    }
   ],
   "source": [
    "distortion = []\n",
    "K = range(2, 10)\n",
    "for k in K:\n",
    "    model = KMeans(n_clusters=k, random_state=19)\n",
    "    model.fit(data)\n",
    "    distortion.append(model.inertia_)\n",
    "    \n",
    "df = pd.DataFrame({'K': K, 'Distortion': distortion})\n",
    "fig = px.line(df, x='K', y='Distortion', title='Elbow plot')\n",
    "fig.show()\n"
   ]
  },
  {
   "cell_type": "code",
   "execution_count": 17,
   "metadata": {},
   "outputs": [
    {
     "name": "stderr",
     "output_type": "stream",
     "text": [
      "c:\\Users\\XIX\\anaconda3\\lib\\site-packages\\sklearn\\cluster\\_kmeans.py:870: FutureWarning:\n",
      "\n",
      "The default value of `n_init` will change from 10 to 'auto' in 1.4. Set the value of `n_init` explicitly to suppress the warning\n",
      "\n"
     ]
    },
    {
     "name": "stdout",
     "output_type": "stream",
     "text": [
      "Cluster centroids:\n",
      "[[  37.28738465  -79.1010757 ]\n",
      " [  36.88743281 -118.56284134]\n",
      " [  28.72185212  -96.51224202]]\n"
     ]
    }
   ],
   "source": [
    "# Model training\",\n",
    "model = KMeans(n_clusters=3, random_state=19)\n",
    "model.fit(data)\n",
    "\n",
    "print('Cluster centroids:')\n",
    "print(model.cluster_centers_)"
   ]
  },
  {
   "cell_type": "code",
   "execution_count": 10,
   "metadata": {},
   "outputs": [
    {
     "name": "stderr",
     "output_type": "stream",
     "text": [
      "c:\\Users\\XIX\\anaconda3\\lib\\site-packages\\sklearn\\cluster\\_kmeans.py:870: FutureWarning:\n",
      "\n",
      "The default value of `n_init` will change from 10 to 'auto' in 1.4. Set the value of `n_init` explicitly to suppress the warning\n",
      "\n"
     ]
    },
    {
     "data": {
      "text/plain": [
       "<seaborn.axisgrid.PairGrid at 0x28208de6b80>"
      ]
     },
     "execution_count": 10,
     "metadata": {},
     "output_type": "execute_result"
    },
    {
     "data": {
      "image/png": "[encoded data removed]",
      "text/plain": [
       "<Figure size 620.375x500 with 6 Axes>"
      ]
     },
     "metadata": {},
     "output_type": "display_data"
    }
   ],
   "source": [
    "model = KMeans(n_clusters=3, random_state=19)\n",
    "model.fit(data)\n",
    "centroids = pd.DataFrame(model.cluster_centers_, columns=data.columns)\n",
    "data['label'] = model.labels_.astype(str)\n",
    "centroids['label'] = ['0 centroid', '1 centroid', '2 centroid']\n",
    "data_all = pd.concat([data, centroids], ignore_index=True)\n",
    "\n",
    "# Plot the graph\n",
    "sns.pairplot(data_all, hue='label', diag_kind='hist')"
   ]
  },
  {
   "cell_type": "code",
   "execution_count": 18,
   "metadata": {},
   "outputs": [
    {
     "name": "stderr",
     "output_type": "stream",
     "text": [
      "c:\\Users\\XIX\\anaconda3\\lib\\site-packages\\sklearn\\cluster\\_kmeans.py:870: FutureWarning:\n",
      "\n",
      "The default value of `n_init` will change from 10 to 'auto' in 1.4. Set the value of `n_init` explicitly to suppress the warning\n",
      "\n"
     ]
    },
    {
     "name": "stdout",
     "output_type": "stream",
     "text": [
      "Cluster centroids:\n",
      "[[  41.09552541  -75.29906745]\n",
      " [  31.91013521  -96.6252901 ]\n",
      " [  47.42581507 -120.65984102]\n",
      " [  20.92830098 -100.32150565]\n",
      " [  34.99959947 -117.47206918]\n",
      " [  31.69448906  -82.75463693]\n",
      " [  21.27063762 -157.69734559]\n",
      " [  18.8892075   -71.70647475]\n",
      " [  40.68434528  -87.79516724]\n",
      " [  17.17099816  -89.30410343]]\n"
     ]
    }
   ],
   "source": [
    "# Model training\",\n",
    "model = KMeans(n_clusters=10, random_state=19)\n",
    "model.fit(data)\n",
    "\n",
    "print('Cluster centroids:')\n",
    "print(model.cluster_centers_)"
   ]
  },
  {
   "cell_type": "code",
   "execution_count": null,
   "metadata": {},
   "outputs": [
    {
     "name": "stderr",
     "output_type": "stream",
     "text": [
      "c:\\Users\\XIX\\anaconda3\\lib\\site-packages\\sklearn\\cluster\\_kmeans.py:870: FutureWarning: The default value of `n_init` will change from 10 to 'auto' in 1.4. Set the value of `n_init` explicitly to suppress the warning\n",
      "  warnings.warn(\n",
      "C:\\Users\\XIX\\AppData\\Local\\Temp\\ipykernel_22892\\3047445562.py:9: SettingWithCopyWarning: \n",
      "A value is trying to be set on a copy of a slice from a DataFrame.\n",
      "Try using .loc[row_indexer,col_indexer] = value instead\n",
      "\n",
      "See the caveats in the documentation: https://pandas.pydata.org/pandas-docs/stable/user_guide/indexing.html#returning-a-view-versus-a-copy\n",
      "  data['label'] = model.labels_.astype(str)\n"
     ]
    },
    {
     "data": {
      "text/plain": [
       "<seaborn.axisgrid.PairGrid at 0x2e85c714d00>"
      ]
     },
     "metadata": {},
     "output_type": "display_data"
    },
    {
     "data": {
      "image/png": "[encoded data removed]",
      "text/plain": [
       "<Figure size 620.375x500 with 6 Axes>"
      ]
     },
     "metadata": {},
     "output_type": "display_data"
    }
   ],
   "source": [
    "model = KMeans(n_clusters=10, random_state=19)\n",
    "model.fit(data)\n",
    "centroids = pd.DataFrame(model.cluster_centers_, columns=data.columns)\n",
    "data['label'] = model.labels_.astype(str)\n",
    "centroids['label'] = ['0 centroid', '1 centroid', '2 centroid', '3 centroid', '4 centroid', '4 centroid', '6 centroid', '7 centroid', '8 centroid', '9 centroid']\n",
    "data_all = pd.concat([data, centroids], ignore_index=True)\n",
    "\n",
    "# Plot the graph\n",
    "sns.pairplot(data_all, hue='label', diag_kind='hist')"
   ]
  },
  {
   "cell_type": "code",
   "execution_count": 22,
   "metadata": {},
   "outputs": [],
   "source": [
    "df_feat = pd.read_csv('inputs/df_feat.csv')\n",
    "y = pd.read_csv('inputs/y.csv')"
   ]
  },
  {
   "cell_type": "code",
   "execution_count": 20,
   "metadata": {},
   "outputs": [
    {
     "data": {
      "text/html": [
       "<div>\n",
       "<style scoped>\n",
       "    .dataframe tbody tr th:only-of-type {\n",
       "        vertical-align: middle;\n",
       "    }\n",
       "\n",
       "    .dataframe tbody tr th {\n",
       "        vertical-align: top;\n",
       "    }\n",
       "\n",
       "    .dataframe thead th {\n",
       "        text-align: right;\n",
       "    }\n",
       "</style>\n",
       "<table border=\"1\" class=\"dataframe\">\n",
       "  <thead>\n",
       "    <tr style=\"text-align: right;\">\n",
       "      <th></th>\n",
       "      <th>user_id</th>\n",
       "      <th>cluster_id</th>\n",
       "      <th>year</th>\n",
       "      <th>month</th>\n",
       "      <th>week</th>\n",
       "      <th>day</th>\n",
       "      <th>day_of_week</th>\n",
       "      <th>day_of_year</th>\n",
       "      <th>hour</th>\n",
       "      <th>minute</th>\n",
       "      <th>second</th>\n",
       "      <th>sent</th>\n",
       "      <th>language</th>\n",
       "      <th>topic</th>\n",
       "      <th>entity</th>\n",
       "    </tr>\n",
       "  </thead>\n",
       "  <tbody>\n",
       "    <tr>\n",
       "      <th>0</th>\n",
       "      <td>-0.646639</td>\n",
       "      <td>-0.987433</td>\n",
       "      <td>2021.0</td>\n",
       "      <td>2.0</td>\n",
       "      <td>5</td>\n",
       "      <td>2.0</td>\n",
       "      <td>1.0</td>\n",
       "      <td>33.0</td>\n",
       "      <td>8.0</td>\n",
       "      <td>23.0</td>\n",
       "      <td>23.0</td>\n",
       "      <td>0.0</td>\n",
       "      <td>11</td>\n",
       "      <td>5</td>\n",
       "      <td>1</td>\n",
       "    </tr>\n",
       "    <tr>\n",
       "      <th>1</th>\n",
       "      <td>-0.646639</td>\n",
       "      <td>-0.987433</td>\n",
       "      <td>2021.0</td>\n",
       "      <td>2.0</td>\n",
       "      <td>5</td>\n",
       "      <td>2.0</td>\n",
       "      <td>1.0</td>\n",
       "      <td>33.0</td>\n",
       "      <td>8.0</td>\n",
       "      <td>28.0</td>\n",
       "      <td>8.0</td>\n",
       "      <td>1.0</td>\n",
       "      <td>11</td>\n",
       "      <td>7</td>\n",
       "      <td>1</td>\n",
       "    </tr>\n",
       "    <tr>\n",
       "      <th>2</th>\n",
       "      <td>1.823152</td>\n",
       "      <td>-0.987433</td>\n",
       "      <td>2021.0</td>\n",
       "      <td>2.0</td>\n",
       "      <td>5</td>\n",
       "      <td>2.0</td>\n",
       "      <td>1.0</td>\n",
       "      <td>33.0</td>\n",
       "      <td>8.0</td>\n",
       "      <td>28.0</td>\n",
       "      <td>19.0</td>\n",
       "      <td>1.0</td>\n",
       "      <td>24</td>\n",
       "      <td>9</td>\n",
       "      <td>2</td>\n",
       "    </tr>\n",
       "    <tr>\n",
       "      <th>3</th>\n",
       "      <td>-0.646639</td>\n",
       "      <td>-0.987433</td>\n",
       "      <td>2021.0</td>\n",
       "      <td>2.0</td>\n",
       "      <td>5</td>\n",
       "      <td>2.0</td>\n",
       "      <td>1.0</td>\n",
       "      <td>33.0</td>\n",
       "      <td>8.0</td>\n",
       "      <td>31.0</td>\n",
       "      <td>49.0</td>\n",
       "      <td>2.0</td>\n",
       "      <td>11</td>\n",
       "      <td>8</td>\n",
       "      <td>1</td>\n",
       "    </tr>\n",
       "    <tr>\n",
       "      <th>4</th>\n",
       "      <td>-0.646639</td>\n",
       "      <td>-0.987433</td>\n",
       "      <td>2021.0</td>\n",
       "      <td>2.0</td>\n",
       "      <td>5</td>\n",
       "      <td>2.0</td>\n",
       "      <td>1.0</td>\n",
       "      <td>33.0</td>\n",
       "      <td>8.0</td>\n",
       "      <td>33.0</td>\n",
       "      <td>42.0</td>\n",
       "      <td>0.0</td>\n",
       "      <td>11</td>\n",
       "      <td>6</td>\n",
       "      <td>1</td>\n",
       "    </tr>\n",
       "  </tbody>\n",
       "</table>\n",
       "</div>"
      ],
      "text/plain": [
       "    user_id  cluster_id    year  month  week  day  day_of_week  day_of_year  \\\n",
       "0 -0.646639   -0.987433  2021.0    2.0     5  2.0          1.0         33.0   \n",
       "1 -0.646639   -0.987433  2021.0    2.0     5  2.0          1.0         33.0   \n",
       "2  1.823152   -0.987433  2021.0    2.0     5  2.0          1.0         33.0   \n",
       "3 -0.646639   -0.987433  2021.0    2.0     5  2.0          1.0         33.0   \n",
       "4 -0.646639   -0.987433  2021.0    2.0     5  2.0          1.0         33.0   \n",
       "\n",
       "   hour  minute  second  sent  language  topic  entity  \n",
       "0   8.0    23.0    23.0   0.0        11      5       1  \n",
       "1   8.0    28.0     8.0   1.0        11      7       1  \n",
       "2   8.0    28.0    19.0   1.0        24      9       2  \n",
       "3   8.0    31.0    49.0   2.0        11      8       1  \n",
       "4   8.0    33.0    42.0   0.0        11      6       1  "
      ]
     },
     "execution_count": 20,
     "metadata": {},
     "output_type": "execute_result"
    }
   ],
   "source": [
    "df_feat.head()"
   ]
  },
  {
   "cell_type": "code",
   "execution_count": 21,
   "metadata": {},
   "outputs": [
    {
     "data": {
      "text/plain": [
       "(591412, 15)"
      ]
     },
     "execution_count": 21,
     "metadata": {},
     "output_type": "execute_result"
    }
   ],
   "source": [
    "df_feat.shape"
   ]
  },
  {
   "cell_type": "code",
   "execution_count": 23,
   "metadata": {},
   "outputs": [],
   "source": [
    "\n",
    "features_train, features_test, target_train, target_test = train_test_split(\n",
    "    df_feat, y, test_size=0.25, random_state=19)"
   ]
  },
  {
   "cell_type": "code",
   "execution_count": 27,
   "metadata": {},
   "outputs": [
    {
     "ename": "KeyboardInterrupt",
     "evalue": "",
     "output_type": "error",
     "traceback": [
      "\u001b[1;31m---------------------------------------------------------------------------\u001b[0m",
      "\u001b[1;31mKeyboardInterrupt\u001b[0m                         Traceback (most recent call last)",
      "Cell \u001b[1;32mIn[27], line 9\u001b[0m\n\u001b[0;32m      7\u001b[0m     knn\u001b[39m.\u001b[39mfit(features_train, target_train)\n\u001b[0;32m      8\u001b[0m     train_accuracies[neighbor] \u001b[39m=\u001b[39m knn\u001b[39m.\u001b[39mscore(features_train, target_train)\n\u001b[1;32m----> 9\u001b[0m     test_accuracies[neighbor] \u001b[39m=\u001b[39m knn\u001b[39m.\u001b[39;49mscore(features_test, target_test)\n\u001b[0;32m     10\u001b[0m \u001b[39mprint\u001b[39m(neighbors, \u001b[39m'\u001b[39m\u001b[39m\\n\u001b[39;00m\u001b[39m'\u001b[39m, train_accuracies, \u001b[39m'\u001b[39m\u001b[39m\\n\u001b[39;00m\u001b[39m'\u001b[39m, test_accuracies)\n",
      "File \u001b[1;32mc:\\Users\\XIX\\anaconda3\\lib\\site-packages\\sklearn\\base.py:722\u001b[0m, in \u001b[0;36mRegressorMixin.score\u001b[1;34m(self, X, y, sample_weight)\u001b[0m\n\u001b[0;32m    680\u001b[0m \u001b[39m\"\"\"Return the coefficient of determination of the prediction.\u001b[39;00m\n\u001b[0;32m    681\u001b[0m \n\u001b[0;32m    682\u001b[0m \u001b[39mThe coefficient of determination :math:`R^2` is defined as\u001b[39;00m\n\u001b[1;32m   (...)\u001b[0m\n\u001b[0;32m    717\u001b[0m \u001b[39m:class:`~sklearn.multioutput.MultiOutputRegressor`).\u001b[39;00m\n\u001b[0;32m    718\u001b[0m \u001b[39m\"\"\"\u001b[39;00m\n\u001b[0;32m    720\u001b[0m \u001b[39mfrom\u001b[39;00m \u001b[39m.\u001b[39;00m\u001b[39mmetrics\u001b[39;00m \u001b[39mimport\u001b[39;00m r2_score\n\u001b[1;32m--> 722\u001b[0m y_pred \u001b[39m=\u001b[39m \u001b[39mself\u001b[39;49m\u001b[39m.\u001b[39;49mpredict(X)\n\u001b[0;32m    723\u001b[0m \u001b[39mreturn\u001b[39;00m r2_score(y, y_pred, sample_weight\u001b[39m=\u001b[39msample_weight)\n",
      "File \u001b[1;32mc:\\Users\\XIX\\anaconda3\\lib\\site-packages\\sklearn\\neighbors\\_regression.py:236\u001b[0m, in \u001b[0;36mKNeighborsRegressor.predict\u001b[1;34m(self, X)\u001b[0m\n\u001b[0;32m    220\u001b[0m \u001b[39m\"\"\"Predict the target for the provided data.\u001b[39;00m\n\u001b[0;32m    221\u001b[0m \n\u001b[0;32m    222\u001b[0m \u001b[39mParameters\u001b[39;00m\n\u001b[1;32m   (...)\u001b[0m\n\u001b[0;32m    231\u001b[0m \u001b[39m    Target values.\u001b[39;00m\n\u001b[0;32m    232\u001b[0m \u001b[39m\"\"\"\u001b[39;00m\n\u001b[0;32m    233\u001b[0m \u001b[39mif\u001b[39;00m \u001b[39mself\u001b[39m\u001b[39m.\u001b[39mweights \u001b[39m==\u001b[39m \u001b[39m\"\u001b[39m\u001b[39muniform\u001b[39m\u001b[39m\"\u001b[39m:\n\u001b[0;32m    234\u001b[0m     \u001b[39m# In that case, we do not need the distances to perform\u001b[39;00m\n\u001b[0;32m    235\u001b[0m     \u001b[39m# the weighting so we do not compute them.\u001b[39;00m\n\u001b[1;32m--> 236\u001b[0m     neigh_ind \u001b[39m=\u001b[39m \u001b[39mself\u001b[39;49m\u001b[39m.\u001b[39;49mkneighbors(X, return_distance\u001b[39m=\u001b[39;49m\u001b[39mFalse\u001b[39;49;00m)\n\u001b[0;32m    237\u001b[0m     neigh_dist \u001b[39m=\u001b[39m \u001b[39mNone\u001b[39;00m\n\u001b[0;32m    238\u001b[0m \u001b[39melse\u001b[39;00m:\n",
      "File \u001b[1;32mc:\\Users\\XIX\\anaconda3\\lib\\site-packages\\sklearn\\neighbors\\_base.py:879\u001b[0m, in \u001b[0;36mKNeighborsMixin.kneighbors\u001b[1;34m(self, X, n_neighbors, return_distance)\u001b[0m\n\u001b[0;32m    873\u001b[0m     \u001b[39mif\u001b[39;00m issparse(X):\n\u001b[0;32m    874\u001b[0m         \u001b[39mraise\u001b[39;00m \u001b[39mValueError\u001b[39;00m(\n\u001b[0;32m    875\u001b[0m             \u001b[39m\"\u001b[39m\u001b[39m%s\u001b[39;00m\u001b[39m does not work with sparse matrices. Densify the data, \u001b[39m\u001b[39m\"\u001b[39m\n\u001b[0;32m    876\u001b[0m             \u001b[39m\"\u001b[39m\u001b[39mor set algorithm=\u001b[39m\u001b[39m'\u001b[39m\u001b[39mbrute\u001b[39m\u001b[39m'\u001b[39m\u001b[39m\"\u001b[39m\n\u001b[0;32m    877\u001b[0m             \u001b[39m%\u001b[39m \u001b[39mself\u001b[39m\u001b[39m.\u001b[39m_fit_method\n\u001b[0;32m    878\u001b[0m         )\n\u001b[1;32m--> 879\u001b[0m     chunked_results \u001b[39m=\u001b[39m Parallel(n_jobs, prefer\u001b[39m=\u001b[39;49m\u001b[39m\"\u001b[39;49m\u001b[39mthreads\u001b[39;49m\u001b[39m\"\u001b[39;49m)(\n\u001b[0;32m    880\u001b[0m         delayed(_tree_query_parallel_helper)(\n\u001b[0;32m    881\u001b[0m             \u001b[39mself\u001b[39;49m\u001b[39m.\u001b[39;49m_tree, X[s], n_neighbors, return_distance\n\u001b[0;32m    882\u001b[0m         )\n\u001b[0;32m    883\u001b[0m         \u001b[39mfor\u001b[39;49;00m s \u001b[39min\u001b[39;49;00m gen_even_slices(X\u001b[39m.\u001b[39;49mshape[\u001b[39m0\u001b[39;49m], n_jobs)\n\u001b[0;32m    884\u001b[0m     )\n\u001b[0;32m    885\u001b[0m \u001b[39melse\u001b[39;00m:\n\u001b[0;32m    886\u001b[0m     \u001b[39mraise\u001b[39;00m \u001b[39mValueError\u001b[39;00m(\u001b[39m\"\u001b[39m\u001b[39minternal: _fit_method not recognized\u001b[39m\u001b[39m\"\u001b[39m)\n",
      "File \u001b[1;32mc:\\Users\\XIX\\anaconda3\\lib\\site-packages\\sklearn\\utils\\parallel.py:63\u001b[0m, in \u001b[0;36mParallel.__call__\u001b[1;34m(self, iterable)\u001b[0m\n\u001b[0;32m     58\u001b[0m config \u001b[39m=\u001b[39m get_config()\n\u001b[0;32m     59\u001b[0m iterable_with_config \u001b[39m=\u001b[39m (\n\u001b[0;32m     60\u001b[0m     (_with_config(delayed_func, config), args, kwargs)\n\u001b[0;32m     61\u001b[0m     \u001b[39mfor\u001b[39;00m delayed_func, args, kwargs \u001b[39min\u001b[39;00m iterable\n\u001b[0;32m     62\u001b[0m )\n\u001b[1;32m---> 63\u001b[0m \u001b[39mreturn\u001b[39;00m \u001b[39msuper\u001b[39;49m()\u001b[39m.\u001b[39;49m\u001b[39m__call__\u001b[39;49m(iterable_with_config)\n",
      "File \u001b[1;32mc:\\Users\\XIX\\anaconda3\\lib\\site-packages\\joblib\\parallel.py:1048\u001b[0m, in \u001b[0;36mParallel.__call__\u001b[1;34m(self, iterable)\u001b[0m\n\u001b[0;32m   1039\u001b[0m \u001b[39mtry\u001b[39;00m:\n\u001b[0;32m   1040\u001b[0m     \u001b[39m# Only set self._iterating to True if at least a batch\u001b[39;00m\n\u001b[0;32m   1041\u001b[0m     \u001b[39m# was dispatched. In particular this covers the edge\u001b[39;00m\n\u001b[1;32m   (...)\u001b[0m\n\u001b[0;32m   1045\u001b[0m     \u001b[39m# was very quick and its callback already dispatched all the\u001b[39;00m\n\u001b[0;32m   1046\u001b[0m     \u001b[39m# remaining jobs.\u001b[39;00m\n\u001b[0;32m   1047\u001b[0m     \u001b[39mself\u001b[39m\u001b[39m.\u001b[39m_iterating \u001b[39m=\u001b[39m \u001b[39mFalse\u001b[39;00m\n\u001b[1;32m-> 1048\u001b[0m     \u001b[39mif\u001b[39;00m \u001b[39mself\u001b[39;49m\u001b[39m.\u001b[39;49mdispatch_one_batch(iterator):\n\u001b[0;32m   1049\u001b[0m         \u001b[39mself\u001b[39m\u001b[39m.\u001b[39m_iterating \u001b[39m=\u001b[39m \u001b[39mself\u001b[39m\u001b[39m.\u001b[39m_original_iterator \u001b[39mis\u001b[39;00m \u001b[39mnot\u001b[39;00m \u001b[39mNone\u001b[39;00m\n\u001b[0;32m   1051\u001b[0m     \u001b[39mwhile\u001b[39;00m \u001b[39mself\u001b[39m\u001b[39m.\u001b[39mdispatch_one_batch(iterator):\n",
      "File \u001b[1;32mc:\\Users\\XIX\\anaconda3\\lib\\site-packages\\joblib\\parallel.py:864\u001b[0m, in \u001b[0;36mParallel.dispatch_one_batch\u001b[1;34m(self, iterator)\u001b[0m\n\u001b[0;32m    862\u001b[0m     \u001b[39mreturn\u001b[39;00m \u001b[39mFalse\u001b[39;00m\n\u001b[0;32m    863\u001b[0m \u001b[39melse\u001b[39;00m:\n\u001b[1;32m--> 864\u001b[0m     \u001b[39mself\u001b[39;49m\u001b[39m.\u001b[39;49m_dispatch(tasks)\n\u001b[0;32m    865\u001b[0m     \u001b[39mreturn\u001b[39;00m \u001b[39mTrue\u001b[39;00m\n",
      "File \u001b[1;32mc:\\Users\\XIX\\anaconda3\\lib\\site-packages\\joblib\\parallel.py:782\u001b[0m, in \u001b[0;36mParallel._dispatch\u001b[1;34m(self, batch)\u001b[0m\n\u001b[0;32m    780\u001b[0m \u001b[39mwith\u001b[39;00m \u001b[39mself\u001b[39m\u001b[39m.\u001b[39m_lock:\n\u001b[0;32m    781\u001b[0m     job_idx \u001b[39m=\u001b[39m \u001b[39mlen\u001b[39m(\u001b[39mself\u001b[39m\u001b[39m.\u001b[39m_jobs)\n\u001b[1;32m--> 782\u001b[0m     job \u001b[39m=\u001b[39m \u001b[39mself\u001b[39;49m\u001b[39m.\u001b[39;49m_backend\u001b[39m.\u001b[39;49mapply_async(batch, callback\u001b[39m=\u001b[39;49mcb)\n\u001b[0;32m    783\u001b[0m     \u001b[39m# A job can complete so quickly than its callback is\u001b[39;00m\n\u001b[0;32m    784\u001b[0m     \u001b[39m# called before we get here, causing self._jobs to\u001b[39;00m\n\u001b[0;32m    785\u001b[0m     \u001b[39m# grow. To ensure correct results ordering, .insert is\u001b[39;00m\n\u001b[0;32m    786\u001b[0m     \u001b[39m# used (rather than .append) in the following line\u001b[39;00m\n\u001b[0;32m    787\u001b[0m     \u001b[39mself\u001b[39m\u001b[39m.\u001b[39m_jobs\u001b[39m.\u001b[39minsert(job_idx, job)\n",
      "File \u001b[1;32mc:\\Users\\XIX\\anaconda3\\lib\\site-packages\\joblib\\_parallel_backends.py:208\u001b[0m, in \u001b[0;36mSequentialBackend.apply_async\u001b[1;34m(self, func, callback)\u001b[0m\n\u001b[0;32m    206\u001b[0m \u001b[39mdef\u001b[39;00m \u001b[39mapply_async\u001b[39m(\u001b[39mself\u001b[39m, func, callback\u001b[39m=\u001b[39m\u001b[39mNone\u001b[39;00m):\n\u001b[0;32m    207\u001b[0m     \u001b[39m\"\"\"Schedule a func to be run\"\"\"\u001b[39;00m\n\u001b[1;32m--> 208\u001b[0m     result \u001b[39m=\u001b[39m ImmediateResult(func)\n\u001b[0;32m    209\u001b[0m     \u001b[39mif\u001b[39;00m callback:\n\u001b[0;32m    210\u001b[0m         callback(result)\n",
      "File \u001b[1;32mc:\\Users\\XIX\\anaconda3\\lib\\site-packages\\joblib\\_parallel_backends.py:572\u001b[0m, in \u001b[0;36mImmediateResult.__init__\u001b[1;34m(self, batch)\u001b[0m\n\u001b[0;32m    569\u001b[0m \u001b[39mdef\u001b[39;00m \u001b[39m__init__\u001b[39m(\u001b[39mself\u001b[39m, batch):\n\u001b[0;32m    570\u001b[0m     \u001b[39m# Don't delay the application, to avoid keeping the input\u001b[39;00m\n\u001b[0;32m    571\u001b[0m     \u001b[39m# arguments in memory\u001b[39;00m\n\u001b[1;32m--> 572\u001b[0m     \u001b[39mself\u001b[39m\u001b[39m.\u001b[39mresults \u001b[39m=\u001b[39m batch()\n",
      "File \u001b[1;32mc:\\Users\\XIX\\anaconda3\\lib\\site-packages\\joblib\\parallel.py:263\u001b[0m, in \u001b[0;36mBatchedCalls.__call__\u001b[1;34m(self)\u001b[0m\n\u001b[0;32m    259\u001b[0m \u001b[39mdef\u001b[39;00m \u001b[39m__call__\u001b[39m(\u001b[39mself\u001b[39m):\n\u001b[0;32m    260\u001b[0m     \u001b[39m# Set the default nested backend to self._backend but do not set the\u001b[39;00m\n\u001b[0;32m    261\u001b[0m     \u001b[39m# change the default number of processes to -1\u001b[39;00m\n\u001b[0;32m    262\u001b[0m     \u001b[39mwith\u001b[39;00m parallel_backend(\u001b[39mself\u001b[39m\u001b[39m.\u001b[39m_backend, n_jobs\u001b[39m=\u001b[39m\u001b[39mself\u001b[39m\u001b[39m.\u001b[39m_n_jobs):\n\u001b[1;32m--> 263\u001b[0m         \u001b[39mreturn\u001b[39;00m [func(\u001b[39m*\u001b[39margs, \u001b[39m*\u001b[39m\u001b[39m*\u001b[39mkwargs)\n\u001b[0;32m    264\u001b[0m                 \u001b[39mfor\u001b[39;00m func, args, kwargs \u001b[39min\u001b[39;00m \u001b[39mself\u001b[39m\u001b[39m.\u001b[39mitems]\n",
      "File \u001b[1;32mc:\\Users\\XIX\\anaconda3\\lib\\site-packages\\joblib\\parallel.py:263\u001b[0m, in \u001b[0;36m<listcomp>\u001b[1;34m(.0)\u001b[0m\n\u001b[0;32m    259\u001b[0m \u001b[39mdef\u001b[39;00m \u001b[39m__call__\u001b[39m(\u001b[39mself\u001b[39m):\n\u001b[0;32m    260\u001b[0m     \u001b[39m# Set the default nested backend to self._backend but do not set the\u001b[39;00m\n\u001b[0;32m    261\u001b[0m     \u001b[39m# change the default number of processes to -1\u001b[39;00m\n\u001b[0;32m    262\u001b[0m     \u001b[39mwith\u001b[39;00m parallel_backend(\u001b[39mself\u001b[39m\u001b[39m.\u001b[39m_backend, n_jobs\u001b[39m=\u001b[39m\u001b[39mself\u001b[39m\u001b[39m.\u001b[39m_n_jobs):\n\u001b[1;32m--> 263\u001b[0m         \u001b[39mreturn\u001b[39;00m [func(\u001b[39m*\u001b[39margs, \u001b[39m*\u001b[39m\u001b[39m*\u001b[39mkwargs)\n\u001b[0;32m    264\u001b[0m                 \u001b[39mfor\u001b[39;00m func, args, kwargs \u001b[39min\u001b[39;00m \u001b[39mself\u001b[39m\u001b[39m.\u001b[39mitems]\n",
      "File \u001b[1;32mc:\\Users\\XIX\\anaconda3\\lib\\site-packages\\sklearn\\utils\\parallel.py:123\u001b[0m, in \u001b[0;36m_FuncWrapper.__call__\u001b[1;34m(self, *args, **kwargs)\u001b[0m\n\u001b[0;32m    121\u001b[0m     config \u001b[39m=\u001b[39m {}\n\u001b[0;32m    122\u001b[0m \u001b[39mwith\u001b[39;00m config_context(\u001b[39m*\u001b[39m\u001b[39m*\u001b[39mconfig):\n\u001b[1;32m--> 123\u001b[0m     \u001b[39mreturn\u001b[39;00m \u001b[39mself\u001b[39m\u001b[39m.\u001b[39mfunction(\u001b[39m*\u001b[39margs, \u001b[39m*\u001b[39m\u001b[39m*\u001b[39mkwargs)\n",
      "File \u001b[1;32mc:\\Users\\XIX\\anaconda3\\lib\\site-packages\\sklearn\\neighbors\\_base.py:685\u001b[0m, in \u001b[0;36m_tree_query_parallel_helper\u001b[1;34m(tree, *args, **kwargs)\u001b[0m\n\u001b[0;32m    679\u001b[0m \u001b[39mdef\u001b[39;00m \u001b[39m_tree_query_parallel_helper\u001b[39m(tree, \u001b[39m*\u001b[39margs, \u001b[39m*\u001b[39m\u001b[39m*\u001b[39mkwargs):\n\u001b[0;32m    680\u001b[0m     \u001b[39m\"\"\"Helper for the Parallel calls in KNeighborsMixin.kneighbors.\u001b[39;00m\n\u001b[0;32m    681\u001b[0m \n\u001b[0;32m    682\u001b[0m \u001b[39m    The Cython method tree.query is not directly picklable by cloudpickle\u001b[39;00m\n\u001b[0;32m    683\u001b[0m \u001b[39m    under PyPy.\u001b[39;00m\n\u001b[0;32m    684\u001b[0m \u001b[39m    \"\"\"\u001b[39;00m\n\u001b[1;32m--> 685\u001b[0m     \u001b[39mreturn\u001b[39;00m tree\u001b[39m.\u001b[39mquery(\u001b[39m*\u001b[39margs, \u001b[39m*\u001b[39m\u001b[39m*\u001b[39mkwargs)\n",
      "\u001b[1;31mKeyboardInterrupt\u001b[0m: "
     ]
    }
   ],
   "source": [
    "neighbors = 2\n",
    "train_accuracies = {}\n",
    "test_accuracies = {}\n",
    "\n",
    "for neighbor in neighbors:\n",
    "    knn = KNeighborsRegressor(n_neighbors=neighbor)\n",
    "    knn.fit(features_train, target_train)\n",
    "    train_accuracies[neighbor] = knn.score(features_train, target_train)\n",
    "    test_accuracies[neighbor] = knn.score(features_test, target_test)\n",
    "print(neighbors, '\\n', train_accuracies, '\\n', test_accuracies)"
   ]
  },
  {
   "cell_type": "code",
   "execution_count": 28,
   "metadata": {},
   "outputs": [],
   "source": [
    "df = pd.read_csv('processed data/df.csv')"
   ]
  },
  {
   "cell_type": "code",
   "execution_count": 31,
   "metadata": {},
   "outputs": [],
   "source": [
    "df.drop(columns=['id', 'text'], inplace=True)"
   ]
  },
  {
   "cell_type": "code",
   "execution_count": 32,
   "metadata": {},
   "outputs": [
    {
     "data": {
      "text/html": [
       "<div>\n",
       "<style scoped>\n",
       "    .dataframe tbody tr th:only-of-type {\n",
       "        vertical-align: middle;\n",
       "    }\n",
       "\n",
       "    .dataframe tbody tr th {\n",
       "        vertical-align: top;\n",
       "    }\n",
       "\n",
       "    .dataframe thead th {\n",
       "        text-align: right;\n",
       "    }\n",
       "</style>\n",
       "<table border=\"1\" class=\"dataframe\">\n",
       "  <thead>\n",
       "    <tr style=\"text-align: right;\">\n",
       "      <th></th>\n",
       "      <th>user_id</th>\n",
       "      <th>cluster_id</th>\n",
       "      <th>year</th>\n",
       "      <th>month</th>\n",
       "      <th>week</th>\n",
       "      <th>day</th>\n",
       "      <th>day_of_week</th>\n",
       "      <th>day_of_year</th>\n",
       "      <th>hour</th>\n",
       "      <th>minute</th>\n",
       "      <th>second</th>\n",
       "      <th>lat</th>\n",
       "      <th>lng</th>\n",
       "    </tr>\n",
       "  </thead>\n",
       "  <tbody>\n",
       "    <tr>\n",
       "      <th>0</th>\n",
       "      <td>2.688113e+07</td>\n",
       "      <td>2</td>\n",
       "      <td>2021.0</td>\n",
       "      <td>2.0</td>\n",
       "      <td>5</td>\n",
       "      <td>2.0</td>\n",
       "      <td>1.0</td>\n",
       "      <td>33.0</td>\n",
       "      <td>8.0</td>\n",
       "      <td>23.0</td>\n",
       "      <td>23.0</td>\n",
       "      <td>34.020789</td>\n",
       "      <td>-118.411907</td>\n",
       "    </tr>\n",
       "    <tr>\n",
       "      <th>1</th>\n",
       "      <td>8.080801e+07</td>\n",
       "      <td>2</td>\n",
       "      <td>2021.0</td>\n",
       "      <td>2.0</td>\n",
       "      <td>5</td>\n",
       "      <td>2.0</td>\n",
       "      <td>1.0</td>\n",
       "      <td>33.0</td>\n",
       "      <td>8.0</td>\n",
       "      <td>28.0</td>\n",
       "      <td>8.0</td>\n",
       "      <td>34.020789</td>\n",
       "      <td>-118.411907</td>\n",
       "    </tr>\n",
       "    <tr>\n",
       "      <th>2</th>\n",
       "      <td>1.286578e+18</td>\n",
       "      <td>2</td>\n",
       "      <td>2021.0</td>\n",
       "      <td>2.0</td>\n",
       "      <td>5</td>\n",
       "      <td>2.0</td>\n",
       "      <td>1.0</td>\n",
       "      <td>33.0</td>\n",
       "      <td>8.0</td>\n",
       "      <td>28.0</td>\n",
       "      <td>19.0</td>\n",
       "      <td>34.020789</td>\n",
       "      <td>-118.411907</td>\n",
       "    </tr>\n",
       "    <tr>\n",
       "      <th>3</th>\n",
       "      <td>1.759526e+07</td>\n",
       "      <td>2</td>\n",
       "      <td>2021.0</td>\n",
       "      <td>2.0</td>\n",
       "      <td>5</td>\n",
       "      <td>2.0</td>\n",
       "      <td>1.0</td>\n",
       "      <td>33.0</td>\n",
       "      <td>8.0</td>\n",
       "      <td>31.0</td>\n",
       "      <td>49.0</td>\n",
       "      <td>34.020789</td>\n",
       "      <td>-118.411907</td>\n",
       "    </tr>\n",
       "    <tr>\n",
       "      <th>4</th>\n",
       "      <td>1.081937e+08</td>\n",
       "      <td>2</td>\n",
       "      <td>2021.0</td>\n",
       "      <td>2.0</td>\n",
       "      <td>5</td>\n",
       "      <td>2.0</td>\n",
       "      <td>1.0</td>\n",
       "      <td>33.0</td>\n",
       "      <td>8.0</td>\n",
       "      <td>33.0</td>\n",
       "      <td>42.0</td>\n",
       "      <td>34.020789</td>\n",
       "      <td>-118.411907</td>\n",
       "    </tr>\n",
       "  </tbody>\n",
       "</table>\n",
       "</div>"
      ],
      "text/plain": [
       "        user_id  cluster_id    year  month  week  day  day_of_week  \\\n",
       "0  2.688113e+07           2  2021.0    2.0     5  2.0          1.0   \n",
       "1  8.080801e+07           2  2021.0    2.0     5  2.0          1.0   \n",
       "2  1.286578e+18           2  2021.0    2.0     5  2.0          1.0   \n",
       "3  1.759526e+07           2  2021.0    2.0     5  2.0          1.0   \n",
       "4  1.081937e+08           2  2021.0    2.0     5  2.0          1.0   \n",
       "\n",
       "   day_of_year  hour  minute  second        lat         lng  \n",
       "0         33.0   8.0    23.0    23.0  34.020789 -118.411907  \n",
       "1         33.0   8.0    28.0     8.0  34.020789 -118.411907  \n",
       "2         33.0   8.0    28.0    19.0  34.020789 -118.411907  \n",
       "3         33.0   8.0    31.0    49.0  34.020789 -118.411907  \n",
       "4         33.0   8.0    33.0    42.0  34.020789 -118.411907  "
      ]
     },
     "execution_count": 32,
     "metadata": {},
     "output_type": "execute_result"
    }
   ],
   "source": [
    "df.head()"
   ]
  },
  {
   "cell_type": "code",
   "execution_count": 39,
   "metadata": {},
   "outputs": [
    {
     "data": {
      "text/plain": [
       "Index(['user_id', 'cluster_id', 'year', 'month', 'week', 'day', 'day_of_week',\n",
       "       'day_of_year', 'hour', 'minute', 'second', 'lat', 'lng'],\n",
       "      dtype='object')"
      ]
     },
     "execution_count": 39,
     "metadata": {},
     "output_type": "execute_result"
    }
   ],
   "source": [
    "df.columns"
   ]
  },
  {
   "cell_type": "code",
   "execution_count": 50,
   "metadata": {},
   "outputs": [
    {
     "data": {
      "text/html": [
       "<div>\n",
       "<style scoped>\n",
       "    .dataframe tbody tr th:only-of-type {\n",
       "        vertical-align: middle;\n",
       "    }\n",
       "\n",
       "    .dataframe tbody tr th {\n",
       "        vertical-align: top;\n",
       "    }\n",
       "\n",
       "    .dataframe thead tr th {\n",
       "        text-align: left;\n",
       "    }\n",
       "\n",
       "    .dataframe thead tr:last-of-type th {\n",
       "        text-align: right;\n",
       "    }\n",
       "</style>\n",
       "<table border=\"1\" class=\"dataframe\">\n",
       "  <thead>\n",
       "    <tr>\n",
       "      <th></th>\n",
       "      <th colspan=\"5\" halign=\"left\">cluster_id</th>\n",
       "      <th colspan=\"5\" halign=\"left\">year</th>\n",
       "      <th>...</th>\n",
       "      <th colspan=\"5\" halign=\"left\">lat</th>\n",
       "      <th colspan=\"5\" halign=\"left\">lng</th>\n",
       "    </tr>\n",
       "    <tr>\n",
       "      <th></th>\n",
       "      <th>mean</th>\n",
       "      <th>median</th>\n",
       "      <th>min</th>\n",
       "      <th>max</th>\n",
       "      <th>count</th>\n",
       "      <th>mean</th>\n",
       "      <th>median</th>\n",
       "      <th>min</th>\n",
       "      <th>max</th>\n",
       "      <th>count</th>\n",
       "      <th>...</th>\n",
       "      <th>mean</th>\n",
       "      <th>median</th>\n",
       "      <th>min</th>\n",
       "      <th>max</th>\n",
       "      <th>count</th>\n",
       "      <th>mean</th>\n",
       "      <th>median</th>\n",
       "      <th>min</th>\n",
       "      <th>max</th>\n",
       "      <th>count</th>\n",
       "    </tr>\n",
       "    <tr>\n",
       "      <th>user_id</th>\n",
       "      <th></th>\n",
       "      <th></th>\n",
       "      <th></th>\n",
       "      <th></th>\n",
       "      <th></th>\n",
       "      <th></th>\n",
       "      <th></th>\n",
       "      <th></th>\n",
       "      <th></th>\n",
       "      <th></th>\n",
       "      <th></th>\n",
       "      <th></th>\n",
       "      <th></th>\n",
       "      <th></th>\n",
       "      <th></th>\n",
       "      <th></th>\n",
       "      <th></th>\n",
       "      <th></th>\n",
       "      <th></th>\n",
       "      <th></th>\n",
       "      <th></th>\n",
       "    </tr>\n",
       "  </thead>\n",
       "  <tbody>\n",
       "    <tr>\n",
       "      <th>6.070000e+02</th>\n",
       "      <td>369.900000</td>\n",
       "      <td>77.0</td>\n",
       "      <td>77</td>\n",
       "      <td>1819</td>\n",
       "      <td>10</td>\n",
       "      <td>2021.0</td>\n",
       "      <td>2021.0</td>\n",
       "      <td>2021.0</td>\n",
       "      <td>2021.0</td>\n",
       "      <td>10</td>\n",
       "      <td>...</td>\n",
       "      <td>40.974730</td>\n",
       "      <td>41.117937</td>\n",
       "      <td>40.211983</td>\n",
       "      <td>41.117937</td>\n",
       "      <td>10</td>\n",
       "      <td>-77.032944</td>\n",
       "      <td>-77.604684</td>\n",
       "      <td>-77.604684</td>\n",
       "      <td>-74.008029</td>\n",
       "      <td>10</td>\n",
       "    </tr>\n",
       "    <tr>\n",
       "      <th>3.946000e+03</th>\n",
       "      <td>78.000000</td>\n",
       "      <td>78.0</td>\n",
       "      <td>78</td>\n",
       "      <td>78</td>\n",
       "      <td>7</td>\n",
       "      <td>2021.0</td>\n",
       "      <td>2021.0</td>\n",
       "      <td>2021.0</td>\n",
       "      <td>2021.0</td>\n",
       "      <td>7</td>\n",
       "      <td>...</td>\n",
       "      <td>30.323346</td>\n",
       "      <td>30.323346</td>\n",
       "      <td>30.323346</td>\n",
       "      <td>30.323346</td>\n",
       "      <td>7</td>\n",
       "      <td>-97.754724</td>\n",
       "      <td>-97.754724</td>\n",
       "      <td>-97.754724</td>\n",
       "      <td>-97.754724</td>\n",
       "      <td>7</td>\n",
       "    </tr>\n",
       "    <tr>\n",
       "      <th>5.107000e+03</th>\n",
       "      <td>9.000000</td>\n",
       "      <td>9.0</td>\n",
       "      <td>9</td>\n",
       "      <td>9</td>\n",
       "      <td>6</td>\n",
       "      <td>2021.0</td>\n",
       "      <td>2021.0</td>\n",
       "      <td>2021.0</td>\n",
       "      <td>2021.0</td>\n",
       "      <td>6</td>\n",
       "      <td>...</td>\n",
       "      <td>40.780709</td>\n",
       "      <td>40.780709</td>\n",
       "      <td>40.780709</td>\n",
       "      <td>40.780709</td>\n",
       "      <td>6</td>\n",
       "      <td>-73.968542</td>\n",
       "      <td>-73.968542</td>\n",
       "      <td>-73.968542</td>\n",
       "      <td>-73.968542</td>\n",
       "      <td>6</td>\n",
       "    </tr>\n",
       "    <tr>\n",
       "      <th>5.649000e+03</th>\n",
       "      <td>1804.916667</td>\n",
       "      <td>1729.0</td>\n",
       "      <td>1729</td>\n",
       "      <td>2640</td>\n",
       "      <td>12</td>\n",
       "      <td>2021.0</td>\n",
       "      <td>2021.0</td>\n",
       "      <td>2021.0</td>\n",
       "      <td>2021.0</td>\n",
       "      <td>12</td>\n",
       "      <td>...</td>\n",
       "      <td>44.145436</td>\n",
       "      <td>44.145436</td>\n",
       "      <td>44.145436</td>\n",
       "      <td>44.145436</td>\n",
       "      <td>12</td>\n",
       "      <td>-120.583401</td>\n",
       "      <td>-120.583401</td>\n",
       "      <td>-120.583401</td>\n",
       "      <td>-120.583401</td>\n",
       "      <td>12</td>\n",
       "    </tr>\n",
       "    <tr>\n",
       "      <th>1.022900e+04</th>\n",
       "      <td>433.000000</td>\n",
       "      <td>433.0</td>\n",
       "      <td>433</td>\n",
       "      <td>433</td>\n",
       "      <td>7</td>\n",
       "      <td>2021.0</td>\n",
       "      <td>2021.0</td>\n",
       "      <td>2021.0</td>\n",
       "      <td>2021.0</td>\n",
       "      <td>7</td>\n",
       "      <td>...</td>\n",
       "      <td>49.257639</td>\n",
       "      <td>49.257639</td>\n",
       "      <td>49.257639</td>\n",
       "      <td>49.257639</td>\n",
       "      <td>7</td>\n",
       "      <td>-123.123581</td>\n",
       "      <td>-123.123581</td>\n",
       "      <td>-123.123581</td>\n",
       "      <td>-123.123581</td>\n",
       "      <td>7</td>\n",
       "    </tr>\n",
       "    <tr>\n",
       "      <th>...</th>\n",
       "      <td>...</td>\n",
       "      <td>...</td>\n",
       "      <td>...</td>\n",
       "      <td>...</td>\n",
       "      <td>...</td>\n",
       "      <td>...</td>\n",
       "      <td>...</td>\n",
       "      <td>...</td>\n",
       "      <td>...</td>\n",
       "      <td>...</td>\n",
       "      <td>...</td>\n",
       "      <td>...</td>\n",
       "      <td>...</td>\n",
       "      <td>...</td>\n",
       "      <td>...</td>\n",
       "      <td>...</td>\n",
       "      <td>...</td>\n",
       "      <td>...</td>\n",
       "      <td>...</td>\n",
       "      <td>...</td>\n",
       "      <td>...</td>\n",
       "    </tr>\n",
       "    <tr>\n",
       "      <th>1.430608e+18</th>\n",
       "      <td>26.000000</td>\n",
       "      <td>26.0</td>\n",
       "      <td>26</td>\n",
       "      <td>26</td>\n",
       "      <td>3</td>\n",
       "      <td>2021.0</td>\n",
       "      <td>2021.0</td>\n",
       "      <td>2021.0</td>\n",
       "      <td>2021.0</td>\n",
       "      <td>3</td>\n",
       "      <td>...</td>\n",
       "      <td>43.629311</td>\n",
       "      <td>43.629311</td>\n",
       "      <td>43.629311</td>\n",
       "      <td>43.629311</td>\n",
       "      <td>3</td>\n",
       "      <td>-79.272570</td>\n",
       "      <td>-79.272570</td>\n",
       "      <td>-79.272570</td>\n",
       "      <td>-79.272570</td>\n",
       "      <td>3</td>\n",
       "    </tr>\n",
       "    <tr>\n",
       "      <th>1.430687e+18</th>\n",
       "      <td>2727.333333</td>\n",
       "      <td>2794.0</td>\n",
       "      <td>2594</td>\n",
       "      <td>2794</td>\n",
       "      <td>6</td>\n",
       "      <td>2021.0</td>\n",
       "      <td>2021.0</td>\n",
       "      <td>2021.0</td>\n",
       "      <td>2021.0</td>\n",
       "      <td>6</td>\n",
       "      <td>...</td>\n",
       "      <td>33.894668</td>\n",
       "      <td>33.884969</td>\n",
       "      <td>33.884969</td>\n",
       "      <td>33.914068</td>\n",
       "      <td>6</td>\n",
       "      <td>-118.263391</td>\n",
       "      <td>-118.222017</td>\n",
       "      <td>-118.346138</td>\n",
       "      <td>-118.222017</td>\n",
       "      <td>6</td>\n",
       "    </tr>\n",
       "    <tr>\n",
       "      <th>1.430724e+18</th>\n",
       "      <td>2185.000000</td>\n",
       "      <td>2185.0</td>\n",
       "      <td>2185</td>\n",
       "      <td>2185</td>\n",
       "      <td>22</td>\n",
       "      <td>2021.0</td>\n",
       "      <td>2021.0</td>\n",
       "      <td>2021.0</td>\n",
       "      <td>2021.0</td>\n",
       "      <td>22</td>\n",
       "      <td>...</td>\n",
       "      <td>33.938045</td>\n",
       "      <td>33.938045</td>\n",
       "      <td>33.938045</td>\n",
       "      <td>33.938045</td>\n",
       "      <td>22</td>\n",
       "      <td>-118.194026</td>\n",
       "      <td>-118.194026</td>\n",
       "      <td>-118.194026</td>\n",
       "      <td>-118.194026</td>\n",
       "      <td>22</td>\n",
       "    </tr>\n",
       "    <tr>\n",
       "      <th>1.430935e+18</th>\n",
       "      <td>169.000000</td>\n",
       "      <td>169.0</td>\n",
       "      <td>169</td>\n",
       "      <td>169</td>\n",
       "      <td>2</td>\n",
       "      <td>2021.0</td>\n",
       "      <td>2021.0</td>\n",
       "      <td>2021.0</td>\n",
       "      <td>2021.0</td>\n",
       "      <td>2</td>\n",
       "      <td>...</td>\n",
       "      <td>45.248791</td>\n",
       "      <td>45.248791</td>\n",
       "      <td>45.248791</td>\n",
       "      <td>45.248791</td>\n",
       "      <td>2</td>\n",
       "      <td>-75.800142</td>\n",
       "      <td>-75.800142</td>\n",
       "      <td>-75.800142</td>\n",
       "      <td>-75.800142</td>\n",
       "      <td>2</td>\n",
       "    </tr>\n",
       "    <tr>\n",
       "      <th>1.431375e+18</th>\n",
       "      <td>1056.714286</td>\n",
       "      <td>806.0</td>\n",
       "      <td>806</td>\n",
       "      <td>1463</td>\n",
       "      <td>7</td>\n",
       "      <td>2021.0</td>\n",
       "      <td>2021.0</td>\n",
       "      <td>2021.0</td>\n",
       "      <td>2021.0</td>\n",
       "      <td>7</td>\n",
       "      <td>...</td>\n",
       "      <td>41.409552</td>\n",
       "      <td>41.500729</td>\n",
       "      <td>40.788062</td>\n",
       "      <td>41.537943</td>\n",
       "      <td>7</td>\n",
       "      <td>-93.463922</td>\n",
       "      <td>-99.680903</td>\n",
       "      <td>-99.680903</td>\n",
       "      <td>-74.328959</td>\n",
       "      <td>7</td>\n",
       "    </tr>\n",
       "  </tbody>\n",
       "</table>\n",
       "<p>41143 rows × 60 columns</p>\n",
       "</div>"
      ],
      "text/plain": [
       "               cluster_id                              year                  \\\n",
       "                     mean  median   min   max count    mean  median     min   \n",
       "user_id                                                                       \n",
       "6.070000e+02   369.900000    77.0    77  1819    10  2021.0  2021.0  2021.0   \n",
       "3.946000e+03    78.000000    78.0    78    78     7  2021.0  2021.0  2021.0   \n",
       "5.107000e+03     9.000000     9.0     9     9     6  2021.0  2021.0  2021.0   \n",
       "5.649000e+03  1804.916667  1729.0  1729  2640    12  2021.0  2021.0  2021.0   \n",
       "1.022900e+04   433.000000   433.0   433   433     7  2021.0  2021.0  2021.0   \n",
       "...                   ...     ...   ...   ...   ...     ...     ...     ...   \n",
       "1.430608e+18    26.000000    26.0    26    26     3  2021.0  2021.0  2021.0   \n",
       "1.430687e+18  2727.333333  2794.0  2594  2794     6  2021.0  2021.0  2021.0   \n",
       "1.430724e+18  2185.000000  2185.0  2185  2185    22  2021.0  2021.0  2021.0   \n",
       "1.430935e+18   169.000000   169.0   169   169     2  2021.0  2021.0  2021.0   \n",
       "1.431375e+18  1056.714286   806.0   806  1463     7  2021.0  2021.0  2021.0   \n",
       "\n",
       "                            ...        lat                                   \\\n",
       "                 max count  ...       mean     median        min        max   \n",
       "user_id                     ...                                               \n",
       "6.070000e+02  2021.0    10  ...  40.974730  41.117937  40.211983  41.117937   \n",
       "3.946000e+03  2021.0     7  ...  30.323346  30.323346  30.323346  30.323346   \n",
       "5.107000e+03  2021.0     6  ...  40.780709  40.780709  40.780709  40.780709   \n",
       "5.649000e+03  2021.0    12  ...  44.145436  44.145436  44.145436  44.145436   \n",
       "1.022900e+04  2021.0     7  ...  49.257639  49.257639  49.257639  49.257639   \n",
       "...              ...   ...  ...        ...        ...        ...        ...   \n",
       "1.430608e+18  2021.0     3  ...  43.629311  43.629311  43.629311  43.629311   \n",
       "1.430687e+18  2021.0     6  ...  33.894668  33.884969  33.884969  33.914068   \n",
       "1.430724e+18  2021.0    22  ...  33.938045  33.938045  33.938045  33.938045   \n",
       "1.430935e+18  2021.0     2  ...  45.248791  45.248791  45.248791  45.248791   \n",
       "1.431375e+18  2021.0     7  ...  41.409552  41.500729  40.788062  41.537943   \n",
       "\n",
       "                           lng                                            \n",
       "             count        mean      median         min         max count  \n",
       "user_id                                                                   \n",
       "6.070000e+02    10  -77.032944  -77.604684  -77.604684  -74.008029    10  \n",
       "3.946000e+03     7  -97.754724  -97.754724  -97.754724  -97.754724     7  \n",
       "5.107000e+03     6  -73.968542  -73.968542  -73.968542  -73.968542     6  \n",
       "5.649000e+03    12 -120.583401 -120.583401 -120.583401 -120.583401    12  \n",
       "1.022900e+04     7 -123.123581 -123.123581 -123.123581 -123.123581     7  \n",
       "...            ...         ...         ...         ...         ...   ...  \n",
       "1.430608e+18     3  -79.272570  -79.272570  -79.272570  -79.272570     3  \n",
       "1.430687e+18     6 -118.263391 -118.222017 -118.346138 -118.222017     6  \n",
       "1.430724e+18    22 -118.194026 -118.194026 -118.194026 -118.194026    22  \n",
       "1.430935e+18     2  -75.800142  -75.800142  -75.800142  -75.800142     2  \n",
       "1.431375e+18     7  -93.463922  -99.680903  -99.680903  -74.328959     7  \n",
       "\n",
       "[41143 rows x 60 columns]"
      ]
     },
     "execution_count": 50,
     "metadata": {},
     "output_type": "execute_result"
    }
   ],
   "source": [
    "df.groupby('user_id')[['cluster_id', 'year', 'month', 'week', 'day', 'day_of_week',\n",
    "       'day_of_year', 'hour', 'minute', 'second', 'lat', 'lng']].agg(['mean', 'median', 'min', 'max', 'count'])"
   ]
  },
  {
   "cell_type": "code",
   "execution_count": 51,
   "metadata": {},
   "outputs": [
    {
     "data": {
      "text/html": [
       "<div>\n",
       "<style scoped>\n",
       "    .dataframe tbody tr th:only-of-type {\n",
       "        vertical-align: middle;\n",
       "    }\n",
       "\n",
       "    .dataframe tbody tr th {\n",
       "        vertical-align: top;\n",
       "    }\n",
       "\n",
       "    .dataframe thead tr th {\n",
       "        text-align: left;\n",
       "    }\n",
       "\n",
       "    .dataframe thead tr:last-of-type th {\n",
       "        text-align: right;\n",
       "    }\n",
       "</style>\n",
       "<table border=\"1\" class=\"dataframe\">\n",
       "  <thead>\n",
       "    <tr>\n",
       "      <th></th>\n",
       "      <th colspan=\"5\" halign=\"left\">user_id</th>\n",
       "      <th colspan=\"5\" halign=\"left\">year</th>\n",
       "      <th>...</th>\n",
       "      <th colspan=\"5\" halign=\"left\">lat</th>\n",
       "      <th colspan=\"5\" halign=\"left\">lng</th>\n",
       "    </tr>\n",
       "    <tr>\n",
       "      <th></th>\n",
       "      <th>mean</th>\n",
       "      <th>median</th>\n",
       "      <th>min</th>\n",
       "      <th>max</th>\n",
       "      <th>count</th>\n",
       "      <th>mean</th>\n",
       "      <th>median</th>\n",
       "      <th>min</th>\n",
       "      <th>max</th>\n",
       "      <th>count</th>\n",
       "      <th>...</th>\n",
       "      <th>mean</th>\n",
       "      <th>median</th>\n",
       "      <th>min</th>\n",
       "      <th>max</th>\n",
       "      <th>count</th>\n",
       "      <th>mean</th>\n",
       "      <th>median</th>\n",
       "      <th>min</th>\n",
       "      <th>max</th>\n",
       "      <th>count</th>\n",
       "    </tr>\n",
       "    <tr>\n",
       "      <th>cluster_id</th>\n",
       "      <th></th>\n",
       "      <th></th>\n",
       "      <th></th>\n",
       "      <th></th>\n",
       "      <th></th>\n",
       "      <th></th>\n",
       "      <th></th>\n",
       "      <th></th>\n",
       "      <th></th>\n",
       "      <th></th>\n",
       "      <th></th>\n",
       "      <th></th>\n",
       "      <th></th>\n",
       "      <th></th>\n",
       "      <th></th>\n",
       "      <th></th>\n",
       "      <th></th>\n",
       "      <th></th>\n",
       "      <th></th>\n",
       "      <th></th>\n",
       "      <th></th>\n",
       "    </tr>\n",
       "  </thead>\n",
       "  <tbody>\n",
       "    <tr>\n",
       "      <th>2</th>\n",
       "      <td>3.403297e+17</td>\n",
       "      <td>5.853914e+08</td>\n",
       "      <td>701233.0</td>\n",
       "      <td>1.429854e+18</td>\n",
       "      <td>20213</td>\n",
       "      <td>2021.0</td>\n",
       "      <td>2021.0</td>\n",
       "      <td>2021.0</td>\n",
       "      <td>2021.0</td>\n",
       "      <td>20213</td>\n",
       "      <td>...</td>\n",
       "      <td>34.020789</td>\n",
       "      <td>34.020789</td>\n",
       "      <td>34.020789</td>\n",
       "      <td>34.020789</td>\n",
       "      <td>20213</td>\n",
       "      <td>-118.411907</td>\n",
       "      <td>-118.411907</td>\n",
       "      <td>-118.411907</td>\n",
       "      <td>-118.411907</td>\n",
       "      <td>20213</td>\n",
       "    </tr>\n",
       "    <tr>\n",
       "      <th>3</th>\n",
       "      <td>3.974357e+17</td>\n",
       "      <td>2.255066e+09</td>\n",
       "      <td>619473.0</td>\n",
       "      <td>1.429854e+18</td>\n",
       "      <td>8834</td>\n",
       "      <td>2021.0</td>\n",
       "      <td>2021.0</td>\n",
       "      <td>2021.0</td>\n",
       "      <td>2021.0</td>\n",
       "      <td>8834</td>\n",
       "      <td>...</td>\n",
       "      <td>31.168893</td>\n",
       "      <td>31.168893</td>\n",
       "      <td>31.168893</td>\n",
       "      <td>31.168893</td>\n",
       "      <td>8834</td>\n",
       "      <td>-100.076888</td>\n",
       "      <td>-100.076888</td>\n",
       "      <td>-100.076888</td>\n",
       "      <td>-100.076888</td>\n",
       "      <td>8834</td>\n",
       "    </tr>\n",
       "    <tr>\n",
       "      <th>8</th>\n",
       "      <td>3.520117e+17</td>\n",
       "      <td>1.025368e+09</td>\n",
       "      <td>754959.0</td>\n",
       "      <td>1.429854e+18</td>\n",
       "      <td>17314</td>\n",
       "      <td>2021.0</td>\n",
       "      <td>2021.0</td>\n",
       "      <td>2021.0</td>\n",
       "      <td>2021.0</td>\n",
       "      <td>17314</td>\n",
       "      <td>...</td>\n",
       "      <td>29.838495</td>\n",
       "      <td>29.838495</td>\n",
       "      <td>29.838495</td>\n",
       "      <td>29.838495</td>\n",
       "      <td>17314</td>\n",
       "      <td>-95.446487</td>\n",
       "      <td>-95.446487</td>\n",
       "      <td>-95.446487</td>\n",
       "      <td>-95.446487</td>\n",
       "      <td>17314</td>\n",
       "    </tr>\n",
       "    <tr>\n",
       "      <th>9</th>\n",
       "      <td>3.025428e+17</td>\n",
       "      <td>4.193102e+08</td>\n",
       "      <td>5107.0</td>\n",
       "      <td>1.423621e+18</td>\n",
       "      <td>12149</td>\n",
       "      <td>2021.0</td>\n",
       "      <td>2021.0</td>\n",
       "      <td>2021.0</td>\n",
       "      <td>2021.0</td>\n",
       "      <td>12149</td>\n",
       "      <td>...</td>\n",
       "      <td>40.780709</td>\n",
       "      <td>40.780709</td>\n",
       "      <td>40.780709</td>\n",
       "      <td>40.780709</td>\n",
       "      <td>12149</td>\n",
       "      <td>-73.968542</td>\n",
       "      <td>-73.968542</td>\n",
       "      <td>-73.968542</td>\n",
       "      <td>-73.968542</td>\n",
       "      <td>12149</td>\n",
       "    </tr>\n",
       "    <tr>\n",
       "      <th>16</th>\n",
       "      <td>3.401422e+17</td>\n",
       "      <td>5.787393e+08</td>\n",
       "      <td>1788321.0</td>\n",
       "      <td>1.429205e+18</td>\n",
       "      <td>7513</td>\n",
       "      <td>2021.0</td>\n",
       "      <td>2021.0</td>\n",
       "      <td>2021.0</td>\n",
       "      <td>2021.0</td>\n",
       "      <td>7513</td>\n",
       "      <td>...</td>\n",
       "      <td>40.004865</td>\n",
       "      <td>40.004866</td>\n",
       "      <td>40.004866</td>\n",
       "      <td>40.004866</td>\n",
       "      <td>7513</td>\n",
       "      <td>-75.117998</td>\n",
       "      <td>-75.117998</td>\n",
       "      <td>-75.117998</td>\n",
       "      <td>-75.117998</td>\n",
       "      <td>7513</td>\n",
       "    </tr>\n",
       "    <tr>\n",
       "      <th>...</th>\n",
       "      <td>...</td>\n",
       "      <td>...</td>\n",
       "      <td>...</td>\n",
       "      <td>...</td>\n",
       "      <td>...</td>\n",
       "      <td>...</td>\n",
       "      <td>...</td>\n",
       "      <td>...</td>\n",
       "      <td>...</td>\n",
       "      <td>...</td>\n",
       "      <td>...</td>\n",
       "      <td>...</td>\n",
       "      <td>...</td>\n",
       "      <td>...</td>\n",
       "      <td>...</td>\n",
       "      <td>...</td>\n",
       "      <td>...</td>\n",
       "      <td>...</td>\n",
       "      <td>...</td>\n",
       "      <td>...</td>\n",
       "      <td>...</td>\n",
       "    </tr>\n",
       "    <tr>\n",
       "      <th>2989</th>\n",
       "      <td>2.097263e+17</td>\n",
       "      <td>1.258561e+09</td>\n",
       "      <td>27150597.0</td>\n",
       "      <td>1.179235e+18</td>\n",
       "      <td>307</td>\n",
       "      <td>2021.0</td>\n",
       "      <td>2021.0</td>\n",
       "      <td>2021.0</td>\n",
       "      <td>2021.0</td>\n",
       "      <td>307</td>\n",
       "      <td>...</td>\n",
       "      <td>42.651668</td>\n",
       "      <td>42.651668</td>\n",
       "      <td>42.651668</td>\n",
       "      <td>42.651668</td>\n",
       "      <td>307</td>\n",
       "      <td>-83.291425</td>\n",
       "      <td>-83.291425</td>\n",
       "      <td>-83.291425</td>\n",
       "      <td>-83.291425</td>\n",
       "      <td>307</td>\n",
       "    </tr>\n",
       "    <tr>\n",
       "      <th>2991</th>\n",
       "      <td>3.782261e+17</td>\n",
       "      <td>1.069439e+09</td>\n",
       "      <td>2476601.0</td>\n",
       "      <td>1.406832e+18</td>\n",
       "      <td>216</td>\n",
       "      <td>2021.0</td>\n",
       "      <td>2021.0</td>\n",
       "      <td>2021.0</td>\n",
       "      <td>2021.0</td>\n",
       "      <td>216</td>\n",
       "      <td>...</td>\n",
       "      <td>32.415051</td>\n",
       "      <td>32.415051</td>\n",
       "      <td>32.415051</td>\n",
       "      <td>32.415051</td>\n",
       "      <td>216</td>\n",
       "      <td>-99.750556</td>\n",
       "      <td>-99.750556</td>\n",
       "      <td>-99.750556</td>\n",
       "      <td>-99.750556</td>\n",
       "      <td>216</td>\n",
       "    </tr>\n",
       "    <tr>\n",
       "      <th>2992</th>\n",
       "      <td>4.186389e+17</td>\n",
       "      <td>3.236549e+09</td>\n",
       "      <td>25774806.0</td>\n",
       "      <td>1.355931e+18</td>\n",
       "      <td>366</td>\n",
       "      <td>2021.0</td>\n",
       "      <td>2021.0</td>\n",
       "      <td>2021.0</td>\n",
       "      <td>2021.0</td>\n",
       "      <td>366</td>\n",
       "      <td>...</td>\n",
       "      <td>31.994300</td>\n",
       "      <td>31.994300</td>\n",
       "      <td>31.994300</td>\n",
       "      <td>31.994300</td>\n",
       "      <td>366</td>\n",
       "      <td>-102.104627</td>\n",
       "      <td>-102.104627</td>\n",
       "      <td>-102.104627</td>\n",
       "      <td>-102.104627</td>\n",
       "      <td>366</td>\n",
       "    </tr>\n",
       "    <tr>\n",
       "      <th>2994</th>\n",
       "      <td>3.552395e+17</td>\n",
       "      <td>3.565149e+08</td>\n",
       "      <td>15462382.0</td>\n",
       "      <td>1.360683e+18</td>\n",
       "      <td>165</td>\n",
       "      <td>2021.0</td>\n",
       "      <td>2021.0</td>\n",
       "      <td>2021.0</td>\n",
       "      <td>2021.0</td>\n",
       "      <td>165</td>\n",
       "      <td>...</td>\n",
       "      <td>38.653771</td>\n",
       "      <td>38.653771</td>\n",
       "      <td>38.653771</td>\n",
       "      <td>38.653771</td>\n",
       "      <td>165</td>\n",
       "      <td>-90.247824</td>\n",
       "      <td>-90.247824</td>\n",
       "      <td>-90.247824</td>\n",
       "      <td>-90.247824</td>\n",
       "      <td>165</td>\n",
       "    </tr>\n",
       "    <tr>\n",
       "      <th>2996</th>\n",
       "      <td>4.456410e+17</td>\n",
       "      <td>2.699537e+09</td>\n",
       "      <td>17399833.0</td>\n",
       "      <td>1.412899e+18</td>\n",
       "      <td>482</td>\n",
       "      <td>2021.0</td>\n",
       "      <td>2021.0</td>\n",
       "      <td>2021.0</td>\n",
       "      <td>2021.0</td>\n",
       "      <td>482</td>\n",
       "      <td>...</td>\n",
       "      <td>29.668301</td>\n",
       "      <td>29.668301</td>\n",
       "      <td>29.668301</td>\n",
       "      <td>29.668301</td>\n",
       "      <td>482</td>\n",
       "      <td>-95.158936</td>\n",
       "      <td>-95.158936</td>\n",
       "      <td>-95.158936</td>\n",
       "      <td>-95.158936</td>\n",
       "      <td>482</td>\n",
       "    </tr>\n",
       "  </tbody>\n",
       "</table>\n",
       "<p>850 rows × 60 columns</p>\n",
       "</div>"
      ],
      "text/plain": [
       "                 user_id                                                 \\\n",
       "                    mean        median         min           max  count   \n",
       "cluster_id                                                                \n",
       "2           3.403297e+17  5.853914e+08    701233.0  1.429854e+18  20213   \n",
       "3           3.974357e+17  2.255066e+09    619473.0  1.429854e+18   8834   \n",
       "8           3.520117e+17  1.025368e+09    754959.0  1.429854e+18  17314   \n",
       "9           3.025428e+17  4.193102e+08      5107.0  1.423621e+18  12149   \n",
       "16          3.401422e+17  5.787393e+08   1788321.0  1.429205e+18   7513   \n",
       "...                  ...           ...         ...           ...    ...   \n",
       "2989        2.097263e+17  1.258561e+09  27150597.0  1.179235e+18    307   \n",
       "2991        3.782261e+17  1.069439e+09   2476601.0  1.406832e+18    216   \n",
       "2992        4.186389e+17  3.236549e+09  25774806.0  1.355931e+18    366   \n",
       "2994        3.552395e+17  3.565149e+08  15462382.0  1.360683e+18    165   \n",
       "2996        4.456410e+17  2.699537e+09  17399833.0  1.412899e+18    482   \n",
       "\n",
       "              year                                 ...        lat             \\\n",
       "              mean  median     min     max  count  ...       mean     median   \n",
       "cluster_id                                         ...                         \n",
       "2           2021.0  2021.0  2021.0  2021.0  20213  ...  34.020789  34.020789   \n",
       "3           2021.0  2021.0  2021.0  2021.0   8834  ...  31.168893  31.168893   \n",
       "8           2021.0  2021.0  2021.0  2021.0  17314  ...  29.838495  29.838495   \n",
       "9           2021.0  2021.0  2021.0  2021.0  12149  ...  40.780709  40.780709   \n",
       "16          2021.0  2021.0  2021.0  2021.0   7513  ...  40.004865  40.004866   \n",
       "...            ...     ...     ...     ...    ...  ...        ...        ...   \n",
       "2989        2021.0  2021.0  2021.0  2021.0    307  ...  42.651668  42.651668   \n",
       "2991        2021.0  2021.0  2021.0  2021.0    216  ...  32.415051  32.415051   \n",
       "2992        2021.0  2021.0  2021.0  2021.0    366  ...  31.994300  31.994300   \n",
       "2994        2021.0  2021.0  2021.0  2021.0    165  ...  38.653771  38.653771   \n",
       "2996        2021.0  2021.0  2021.0  2021.0    482  ...  29.668301  29.668301   \n",
       "\n",
       "                                                lng                          \\\n",
       "                  min        max  count        mean      median         min   \n",
       "cluster_id                                                                    \n",
       "2           34.020789  34.020789  20213 -118.411907 -118.411907 -118.411907   \n",
       "3           31.168893  31.168893   8834 -100.076888 -100.076888 -100.076888   \n",
       "8           29.838495  29.838495  17314  -95.446487  -95.446487  -95.446487   \n",
       "9           40.780709  40.780709  12149  -73.968542  -73.968542  -73.968542   \n",
       "16          40.004866  40.004866   7513  -75.117998  -75.117998  -75.117998   \n",
       "...               ...        ...    ...         ...         ...         ...   \n",
       "2989        42.651668  42.651668    307  -83.291425  -83.291425  -83.291425   \n",
       "2991        32.415051  32.415051    216  -99.750556  -99.750556  -99.750556   \n",
       "2992        31.994300  31.994300    366 -102.104627 -102.104627 -102.104627   \n",
       "2994        38.653771  38.653771    165  -90.247824  -90.247824  -90.247824   \n",
       "2996        29.668301  29.668301    482  -95.158936  -95.158936  -95.158936   \n",
       "\n",
       "                               \n",
       "                   max  count  \n",
       "cluster_id                     \n",
       "2          -118.411907  20213  \n",
       "3          -100.076888   8834  \n",
       "8           -95.446487  17314  \n",
       "9           -73.968542  12149  \n",
       "16          -75.117998   7513  \n",
       "...                ...    ...  \n",
       "2989        -83.291425    307  \n",
       "2991        -99.750556    216  \n",
       "2992       -102.104627    366  \n",
       "2994        -90.247824    165  \n",
       "2996        -95.158936    482  \n",
       "\n",
       "[850 rows x 60 columns]"
      ]
     },
     "execution_count": 51,
     "metadata": {},
     "output_type": "execute_result"
    }
   ],
   "source": [
    "df.groupby('cluster_id')[['user_id', 'year', 'month', 'week', 'day', 'day_of_week',\n",
    "       'day_of_year', 'hour', 'minute', 'second', 'lat', 'lng']].agg(['mean', 'median', 'min', 'max', 'count'])"
   ]
  },
  {
   "cell_type": "markdown",
   "metadata": {},
   "source": [
    "## Merged Dataframe"
   ]
  },
  {
   "cell_type": "code",
   "execution_count": 52,
   "metadata": {},
   "outputs": [],
   "source": [
    "df_merge = pd.read_csv('processed data/df_merge.csv')"
   ]
  },
  {
   "cell_type": "code",
   "execution_count": 64,
   "metadata": {},
   "outputs": [
    {
     "data": {
      "text/html": [
       "<div>\n",
       "<style scoped>\n",
       "    .dataframe tbody tr th:only-of-type {\n",
       "        vertical-align: middle;\n",
       "    }\n",
       "\n",
       "    .dataframe tbody tr th {\n",
       "        vertical-align: top;\n",
       "    }\n",
       "\n",
       "    .dataframe thead th {\n",
       "        text-align: right;\n",
       "    }\n",
       "</style>\n",
       "<table border=\"1\" class=\"dataframe\">\n",
       "  <thead>\n",
       "    <tr style=\"text-align: right;\">\n",
       "      <th></th>\n",
       "      <th>lat</th>\n",
       "      <th>lng</th>\n",
       "    </tr>\n",
       "    <tr>\n",
       "      <th>language</th>\n",
       "      <th></th>\n",
       "      <th></th>\n",
       "    </tr>\n",
       "  </thead>\n",
       "  <tbody>\n",
       "    <tr>\n",
       "      <th>Arabic</th>\n",
       "      <td>45.557831</td>\n",
       "      <td>-73.723025</td>\n",
       "    </tr>\n",
       "    <tr>\n",
       "      <th>Basque</th>\n",
       "      <td>19.130760</td>\n",
       "      <td>-101.708540</td>\n",
       "    </tr>\n",
       "    <tr>\n",
       "      <th>Breton</th>\n",
       "      <td>19.055430</td>\n",
       "      <td>-73.054142</td>\n",
       "    </tr>\n",
       "    <tr>\n",
       "      <th>Catalan</th>\n",
       "      <td>34.020789</td>\n",
       "      <td>-118.411907</td>\n",
       "    </tr>\n",
       "    <tr>\n",
       "      <th>Chinese_China</th>\n",
       "      <td>29.417501</td>\n",
       "      <td>-98.540651</td>\n",
       "    </tr>\n",
       "    <tr>\n",
       "      <th>Chinese_Hongkong</th>\n",
       "      <td>37.331159</td>\n",
       "      <td>-121.873730</td>\n",
       "    </tr>\n",
       "    <tr>\n",
       "      <th>Chinese_Taiwan</th>\n",
       "      <td>37.378397</td>\n",
       "      <td>-122.023841</td>\n",
       "    </tr>\n",
       "    <tr>\n",
       "      <th>Chuvash</th>\n",
       "      <td>34.020789</td>\n",
       "      <td>-118.411907</td>\n",
       "    </tr>\n",
       "    <tr>\n",
       "      <th>Czech</th>\n",
       "      <td>29.838495</td>\n",
       "      <td>-95.446487</td>\n",
       "    </tr>\n",
       "    <tr>\n",
       "      <th>Dhivehi</th>\n",
       "      <td>34.020789</td>\n",
       "      <td>-118.411907</td>\n",
       "    </tr>\n",
       "    <tr>\n",
       "      <th>Dutch</th>\n",
       "      <td>45.484892</td>\n",
       "      <td>-122.805579</td>\n",
       "    </tr>\n",
       "    <tr>\n",
       "      <th>English</th>\n",
       "      <td>34.020789</td>\n",
       "      <td>-118.411907</td>\n",
       "    </tr>\n",
       "    <tr>\n",
       "      <th>Esperanto</th>\n",
       "      <td>21.710693</td>\n",
       "      <td>-79.541829</td>\n",
       "    </tr>\n",
       "    <tr>\n",
       "      <th>Estonian</th>\n",
       "      <td>31.168893</td>\n",
       "      <td>-100.076888</td>\n",
       "    </tr>\n",
       "    <tr>\n",
       "      <th>French</th>\n",
       "      <td>45.557831</td>\n",
       "      <td>-73.723025</td>\n",
       "    </tr>\n",
       "    <tr>\n",
       "      <th>Frisian</th>\n",
       "      <td>34.020789</td>\n",
       "      <td>-95.446487</td>\n",
       "    </tr>\n",
       "    <tr>\n",
       "      <th>Georgian</th>\n",
       "      <td>40.572376</td>\n",
       "      <td>-74.153947</td>\n",
       "    </tr>\n",
       "    <tr>\n",
       "      <th>German</th>\n",
       "      <td>45.557831</td>\n",
       "      <td>-73.723025</td>\n",
       "    </tr>\n",
       "    <tr>\n",
       "      <th>Greek</th>\n",
       "      <td>34.020789</td>\n",
       "      <td>-118.411907</td>\n",
       "    </tr>\n",
       "    <tr>\n",
       "      <th>Hakha_Chin</th>\n",
       "      <td>29.838495</td>\n",
       "      <td>-95.446487</td>\n",
       "    </tr>\n",
       "    <tr>\n",
       "      <th>Indonesian</th>\n",
       "      <td>33.842863</td>\n",
       "      <td>-117.851089</td>\n",
       "    </tr>\n",
       "    <tr>\n",
       "      <th>Interlingua</th>\n",
       "      <td>15.772467</td>\n",
       "      <td>-90.224221</td>\n",
       "    </tr>\n",
       "    <tr>\n",
       "      <th>Italian</th>\n",
       "      <td>45.536402</td>\n",
       "      <td>-122.630908</td>\n",
       "    </tr>\n",
       "    <tr>\n",
       "      <th>Japanese</th>\n",
       "      <td>21.319944</td>\n",
       "      <td>-157.799589</td>\n",
       "    </tr>\n",
       "    <tr>\n",
       "      <th>Kabyle</th>\n",
       "      <td>34.020789</td>\n",
       "      <td>-118.411907</td>\n",
       "    </tr>\n",
       "    <tr>\n",
       "      <th>Kinyarwanda</th>\n",
       "      <td>34.020789</td>\n",
       "      <td>-118.411907</td>\n",
       "    </tr>\n",
       "    <tr>\n",
       "      <th>Kyrgyz</th>\n",
       "      <td>40.780709</td>\n",
       "      <td>-73.968542</td>\n",
       "    </tr>\n",
       "    <tr>\n",
       "      <th>Latvian</th>\n",
       "      <td>34.020789</td>\n",
       "      <td>-118.411907</td>\n",
       "    </tr>\n",
       "    <tr>\n",
       "      <th>Maltese</th>\n",
       "      <td>40.431347</td>\n",
       "      <td>-80.050540</td>\n",
       "    </tr>\n",
       "    <tr>\n",
       "      <th>Mangolian</th>\n",
       "      <td>34.020789</td>\n",
       "      <td>-118.411907</td>\n",
       "    </tr>\n",
       "    <tr>\n",
       "      <th>Persian</th>\n",
       "      <td>43.629311</td>\n",
       "      <td>-79.272569</td>\n",
       "    </tr>\n",
       "    <tr>\n",
       "      <th>Polish</th>\n",
       "      <td>41.262690</td>\n",
       "      <td>-75.906653</td>\n",
       "    </tr>\n",
       "    <tr>\n",
       "      <th>Portuguese</th>\n",
       "      <td>40.780709</td>\n",
       "      <td>-73.968542</td>\n",
       "    </tr>\n",
       "    <tr>\n",
       "      <th>Romanian</th>\n",
       "      <td>34.020789</td>\n",
       "      <td>-118.411907</td>\n",
       "    </tr>\n",
       "    <tr>\n",
       "      <th>Romansh_Sursilvan</th>\n",
       "      <td>45.536402</td>\n",
       "      <td>-122.630908</td>\n",
       "    </tr>\n",
       "    <tr>\n",
       "      <th>Russian</th>\n",
       "      <td>29.721989</td>\n",
       "      <td>-95.778711</td>\n",
       "    </tr>\n",
       "    <tr>\n",
       "      <th>Sakha</th>\n",
       "      <td>34.020789</td>\n",
       "      <td>-118.411907</td>\n",
       "    </tr>\n",
       "    <tr>\n",
       "      <th>Slovenian</th>\n",
       "      <td>33.282450</td>\n",
       "      <td>-111.880874</td>\n",
       "    </tr>\n",
       "    <tr>\n",
       "      <th>Spanish</th>\n",
       "      <td>15.772467</td>\n",
       "      <td>-90.224221</td>\n",
       "    </tr>\n",
       "    <tr>\n",
       "      <th>Swedish</th>\n",
       "      <td>34.020789</td>\n",
       "      <td>-118.411907</td>\n",
       "    </tr>\n",
       "    <tr>\n",
       "      <th>Tamil</th>\n",
       "      <td>42.352786</td>\n",
       "      <td>-83.099288</td>\n",
       "    </tr>\n",
       "    <tr>\n",
       "      <th>Tatar</th>\n",
       "      <td>43.629311</td>\n",
       "      <td>-73.968542</td>\n",
       "    </tr>\n",
       "    <tr>\n",
       "      <th>Turkish</th>\n",
       "      <td>40.655138</td>\n",
       "      <td>-73.948775</td>\n",
       "    </tr>\n",
       "    <tr>\n",
       "      <th>Ukranian</th>\n",
       "      <td>40.780709</td>\n",
       "      <td>-73.968542</td>\n",
       "    </tr>\n",
       "    <tr>\n",
       "      <th>Welsh</th>\n",
       "      <td>29.838495</td>\n",
       "      <td>-95.446487</td>\n",
       "    </tr>\n",
       "  </tbody>\n",
       "</table>\n",
       "</div>"
      ],
      "text/plain": [
       "                         lat         lng\n",
       "language                                \n",
       "Arabic             45.557831  -73.723025\n",
       "Basque             19.130760 -101.708540\n",
       "Breton             19.055430  -73.054142\n",
       "Catalan            34.020789 -118.411907\n",
       "Chinese_China      29.417501  -98.540651\n",
       "Chinese_Hongkong   37.331159 -121.873730\n",
       "Chinese_Taiwan     37.378397 -122.023841\n",
       "Chuvash            34.020789 -118.411907\n",
       "Czech              29.838495  -95.446487\n",
       "Dhivehi            34.020789 -118.411907\n",
       "Dutch              45.484892 -122.805579\n",
       "English            34.020789 -118.411907\n",
       "Esperanto          21.710693  -79.541829\n",
       "Estonian           31.168893 -100.076888\n",
       "French             45.557831  -73.723025\n",
       "Frisian            34.020789  -95.446487\n",
       "Georgian           40.572376  -74.153947\n",
       "German             45.557831  -73.723025\n",
       "Greek              34.020789 -118.411907\n",
       "Hakha_Chin         29.838495  -95.446487\n",
       "Indonesian         33.842863 -117.851089\n",
       "Interlingua        15.772467  -90.224221\n",
       "Italian            45.536402 -122.630908\n",
       "Japanese           21.319944 -157.799589\n",
       "Kabyle             34.020789 -118.411907\n",
       "Kinyarwanda        34.020789 -118.411907\n",
       "Kyrgyz             40.780709  -73.968542\n",
       "Latvian            34.020789 -118.411907\n",
       "Maltese            40.431347  -80.050540\n",
       "Mangolian          34.020789 -118.411907\n",
       "Persian            43.629311  -79.272569\n",
       "Polish             41.262690  -75.906653\n",
       "Portuguese         40.780709  -73.968542\n",
       "Romanian           34.020789 -118.411907\n",
       "Romansh_Sursilvan  45.536402 -122.630908\n",
       "Russian            29.721989  -95.778711\n",
       "Sakha              34.020789 -118.411907\n",
       "Slovenian          33.282450 -111.880874\n",
       "Spanish            15.772467  -90.224221\n",
       "Swedish            34.020789 -118.411907\n",
       "Tamil              42.352786  -83.099288\n",
       "Tatar              43.629311  -73.968542\n",
       "Turkish            40.655138  -73.948775\n",
       "Ukranian           40.780709  -73.968542\n",
       "Welsh              29.838495  -95.446487"
      ]
     },
     "execution_count": 64,
     "metadata": {},
     "output_type": "execute_result"
    }
   ],
   "source": [
    "df_merge.groupby('language')[['lat', 'lng']].agg(mode)"
   ]
  }
 ],
 "metadata": {
  "kernelspec": {
   "display_name": "base",
   "language": "python",
   "name": "python3"
  },
  "language_info": {
   "codemirror_mode": {
    "name": "ipython",
    "version": 3
   },
   "file_extension": ".py",
   "mimetype": "text/x-python",
   "name": "python",
   "nbconvert_exporter": "python",
   "pygments_lexer": "ipython3",
   "version": "3.9.12"
  },
  "orig_nbformat": 4
 },
 "nbformat": 4,
 "nbformat_minor": 2
}
