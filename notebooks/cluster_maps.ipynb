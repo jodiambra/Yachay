{
 "cells": [
  {
   "cell_type": "code",
   "execution_count": 3,
   "metadata": {},
   "outputs": [],
   "source": [
    "import pandas as pd\n",
    "import plotly_express as px\n",
    "import numpy as np  \n",
    "from statistics import mode\n",
    "from sklearn.preprocessing import StandardScaler, LabelEncoder"
   ]
  },
  {
   "cell_type": "markdown",
   "metadata": {},
   "source": [
    "## Merged Dataframe"
   ]
  },
  {
   "cell_type": "code",
   "execution_count": 4,
   "metadata": {},
   "outputs": [],
   "source": [
    "df_merge = pd.read_csv('processed data/df_merge.csv')"
   ]
  },
  {
   "cell_type": "code",
   "execution_count": 5,
   "metadata": {},
   "outputs": [
    {
     "name": "stderr",
     "output_type": "stream",
     "text": [
      "c:\\Users\\XIX\\anaconda3\\lib\\site-packages\\sklearn\\preprocessing\\_label.py:116: DataConversionWarning: A column-vector y was passed when a 1d array was expected. Please change the shape of y to (n_samples, ), for example using ravel().\n",
      "  y = column_or_1d(y, warn=True)\n"
     ]
    }
   ],
   "source": [
    "id_encoder = LabelEncoder()\n",
    "df_merge['user_id'] = id_encoder.fit_transform(df_merge[['user_id']])"
   ]
  },
  {
   "cell_type": "code",
   "execution_count": 64,
   "metadata": {},
   "outputs": [
    {
     "data": {
      "text/html": [
       "<div>\n",
       "<style scoped>\n",
       "    .dataframe tbody tr th:only-of-type {\n",
       "        vertical-align: middle;\n",
       "    }\n",
       "\n",
       "    .dataframe tbody tr th {\n",
       "        vertical-align: top;\n",
       "    }\n",
       "\n",
       "    .dataframe thead th {\n",
       "        text-align: right;\n",
       "    }\n",
       "</style>\n",
       "<table border=\"1\" class=\"dataframe\">\n",
       "  <thead>\n",
       "    <tr style=\"text-align: right;\">\n",
       "      <th></th>\n",
       "      <th>id</th>\n",
       "      <th>text</th>\n",
       "      <th>user_id</th>\n",
       "      <th>cluster_id</th>\n",
       "      <th>year</th>\n",
       "      <th>month</th>\n",
       "      <th>week</th>\n",
       "      <th>day</th>\n",
       "      <th>day_of_week</th>\n",
       "      <th>day_of_year</th>\n",
       "      <th>hour</th>\n",
       "      <th>minute</th>\n",
       "      <th>second</th>\n",
       "      <th>lat</th>\n",
       "      <th>lng</th>\n",
       "      <th>sent</th>\n",
       "      <th>language</th>\n",
       "      <th>topic</th>\n",
       "      <th>entity</th>\n",
       "    </tr>\n",
       "  </thead>\n",
       "  <tbody>\n",
       "    <tr>\n",
       "      <th>0</th>\n",
       "      <td>4080</td>\n",
       "      <td>i moved all day yesterday slept for 2 hours la...</td>\n",
       "      <td>3169</td>\n",
       "      <td>2</td>\n",
       "      <td>2021.0</td>\n",
       "      <td>2.0</td>\n",
       "      <td>5</td>\n",
       "      <td>2.0</td>\n",
       "      <td>1.0</td>\n",
       "      <td>33.0</td>\n",
       "      <td>8.0</td>\n",
       "      <td>23.0</td>\n",
       "      <td>23.0</td>\n",
       "      <td>34.020789</td>\n",
       "      <td>-118.411907</td>\n",
       "      <td>negative</td>\n",
       "      <td>English</td>\n",
       "      <td>Health</td>\n",
       "      <td>United Kingdom</td>\n",
       "    </tr>\n",
       "    <tr>\n",
       "      <th>1</th>\n",
       "      <td>10213</td>\n",
       "      <td>in the vortex 16x20 acrylicpainting</td>\n",
       "      <td>7763</td>\n",
       "      <td>2</td>\n",
       "      <td>2021.0</td>\n",
       "      <td>2.0</td>\n",
       "      <td>5</td>\n",
       "      <td>2.0</td>\n",
       "      <td>1.0</td>\n",
       "      <td>33.0</td>\n",
       "      <td>8.0</td>\n",
       "      <td>28.0</td>\n",
       "      <td>8.0</td>\n",
       "      <td>34.020789</td>\n",
       "      <td>-118.411907</td>\n",
       "      <td>neutral</td>\n",
       "      <td>English</td>\n",
       "      <td>Science &amp; Mathematics</td>\n",
       "      <td>United Kingdom</td>\n",
       "    </tr>\n",
       "    <tr>\n",
       "      <th>2</th>\n",
       "      <td>12514</td>\n",
       "      <td>pes21 is free lmfao</td>\n",
       "      <td>38301</td>\n",
       "      <td>2</td>\n",
       "      <td>2021.0</td>\n",
       "      <td>2.0</td>\n",
       "      <td>5</td>\n",
       "      <td>2.0</td>\n",
       "      <td>1.0</td>\n",
       "      <td>33.0</td>\n",
       "      <td>8.0</td>\n",
       "      <td>28.0</td>\n",
       "      <td>19.0</td>\n",
       "      <td>34.020789</td>\n",
       "      <td>-118.411907</td>\n",
       "      <td>neutral</td>\n",
       "      <td>Kabyle</td>\n",
       "      <td>Sports</td>\n",
       "      <td>United States</td>\n",
       "    </tr>\n",
       "    <tr>\n",
       "      <th>3</th>\n",
       "      <td>10843</td>\n",
       "      <td>ha yeah there’s no way of ever really knowing ...</td>\n",
       "      <td>1366</td>\n",
       "      <td>2</td>\n",
       "      <td>2021.0</td>\n",
       "      <td>2.0</td>\n",
       "      <td>5</td>\n",
       "      <td>2.0</td>\n",
       "      <td>1.0</td>\n",
       "      <td>33.0</td>\n",
       "      <td>8.0</td>\n",
       "      <td>31.0</td>\n",
       "      <td>49.0</td>\n",
       "      <td>34.020789</td>\n",
       "      <td>-118.411907</td>\n",
       "      <td>positive</td>\n",
       "      <td>English</td>\n",
       "      <td>Society &amp; Culture</td>\n",
       "      <td>United Kingdom</td>\n",
       "    </tr>\n",
       "    <tr>\n",
       "      <th>4</th>\n",
       "      <td>16316</td>\n",
       "      <td>. shut the fuck up you fake ass nerd.</td>\n",
       "      <td>8979</td>\n",
       "      <td>2</td>\n",
       "      <td>2021.0</td>\n",
       "      <td>2.0</td>\n",
       "      <td>5</td>\n",
       "      <td>2.0</td>\n",
       "      <td>1.0</td>\n",
       "      <td>33.0</td>\n",
       "      <td>8.0</td>\n",
       "      <td>33.0</td>\n",
       "      <td>42.0</td>\n",
       "      <td>34.020789</td>\n",
       "      <td>-118.411907</td>\n",
       "      <td>negative</td>\n",
       "      <td>English</td>\n",
       "      <td>Politics &amp; Government</td>\n",
       "      <td>United Kingdom</td>\n",
       "    </tr>\n",
       "  </tbody>\n",
       "</table>\n",
       "</div>"
      ],
      "text/plain": [
       "      id                                               text  user_id  \\\n",
       "0   4080  i moved all day yesterday slept for 2 hours la...     3169   \n",
       "1  10213                in the vortex 16x20 acrylicpainting     7763   \n",
       "2  12514                                pes21 is free lmfao    38301   \n",
       "3  10843  ha yeah there’s no way of ever really knowing ...     1366   \n",
       "4  16316              . shut the fuck up you fake ass nerd.     8979   \n",
       "\n",
       "   cluster_id    year  month  week  day  day_of_week  day_of_year  hour  \\\n",
       "0           2  2021.0    2.0     5  2.0          1.0         33.0   8.0   \n",
       "1           2  2021.0    2.0     5  2.0          1.0         33.0   8.0   \n",
       "2           2  2021.0    2.0     5  2.0          1.0         33.0   8.0   \n",
       "3           2  2021.0    2.0     5  2.0          1.0         33.0   8.0   \n",
       "4           2  2021.0    2.0     5  2.0          1.0         33.0   8.0   \n",
       "\n",
       "   minute  second        lat         lng      sent language  \\\n",
       "0    23.0    23.0  34.020789 -118.411907  negative  English   \n",
       "1    28.0     8.0  34.020789 -118.411907   neutral  English   \n",
       "2    28.0    19.0  34.020789 -118.411907   neutral   Kabyle   \n",
       "3    31.0    49.0  34.020789 -118.411907  positive  English   \n",
       "4    33.0    42.0  34.020789 -118.411907  negative  English   \n",
       "\n",
       "                   topic          entity  \n",
       "0                 Health  United Kingdom  \n",
       "1  Science & Mathematics  United Kingdom  \n",
       "2                 Sports   United States  \n",
       "3      Society & Culture  United Kingdom  \n",
       "4  Politics & Government  United Kingdom  "
      ]
     },
     "execution_count": 64,
     "metadata": {},
     "output_type": "execute_result"
    }
   ],
   "source": [
    "df_merge.head()"
   ]
  },
  {
   "cell_type": "code",
   "execution_count": 4,
   "metadata": {},
   "outputs": [],
   "source": [
    "lang_mode = df_merge.groupby('language')[['lat', 'lng']].agg(mode)"
   ]
  },
  {
   "cell_type": "code",
   "execution_count": 8,
   "metadata": {},
   "outputs": [],
   "source": [
    "lang_mode.reset_index(inplace=True)"
   ]
  },
  {
   "cell_type": "code",
   "execution_count": 13,
   "metadata": {},
   "outputs": [
    {
     "data": {
      "application/vnd.plotly.v1+json": {
       "config": {
        "plotlyServerURL": "https://plot.ly"
       },
       "data": [
        {
         "geo": "geo",
         "hovertemplate": "language=Arabic<br>lat=%{lat}<br>lng=%{lon}<extra></extra>",
         "lat": [
          45.5578305
         ],
         "legendgroup": "Arabic",
         "lon": [
          -73.723025
         ],
         "marker": {
          "color": "#636efa",
          "opacity": 0.6,
          "symbol": "circle"
         },
         "mode": "markers",
         "name": "Arabic",
         "showlegend": true,
         "type": "scattergeo"
        },
        {
         "geo": "geo",
         "hovertemplate": "language=Basque<br>lat=%{lat}<br>lng=%{lon}<extra></extra>",
         "lat": [
          19.1307601
         ],
         "legendgroup": "Basque",
         "lon": [
          -101.70854049999998
         ],
         "marker": {
          "color": "#EF553B",
          "opacity": 0.6,
          "symbol": "circle"
         },
         "mode": "markers",
         "name": "Basque",
         "showlegend": true,
         "type": "scattergeo"
        },
        {
         "geo": "geo",
         "hovertemplate": "language=Breton<br>lat=%{lat}<br>lng=%{lon}<extra></extra>",
         "lat": [
          19.0554305
         ],
         "legendgroup": "Breton",
         "lon": [
          -73.05414164999999
         ],
         "marker": {
          "color": "#00cc96",
          "opacity": 0.6,
          "symbol": "circle"
         },
         "mode": "markers",
         "name": "Breton",
         "showlegend": true,
         "type": "scattergeo"
        },
        {
         "geo": "geo",
         "hovertemplate": "language=Catalan<br>lat=%{lat}<br>lng=%{lon}<extra></extra>",
         "lat": [
          34.0207895
         ],
         "legendgroup": "Catalan",
         "lon": [
          -118.4119065
         ],
         "marker": {
          "color": "#ab63fa",
          "opacity": 0.6,
          "symbol": "circle"
         },
         "mode": "markers",
         "name": "Catalan",
         "showlegend": true,
         "type": "scattergeo"
        },
        {
         "geo": "geo",
         "hovertemplate": "language=Chinese_China<br>lat=%{lat}<br>lng=%{lon}<extra></extra>",
         "lat": [
          29.417500999999994
         ],
         "legendgroup": "Chinese_China",
         "lon": [
          -98.5406515
         ],
         "marker": {
          "color": "#FFA15A",
          "opacity": 0.6,
          "symbol": "circle"
         },
         "mode": "markers",
         "name": "Chinese_China",
         "showlegend": true,
         "type": "scattergeo"
        },
        {
         "geo": "geo",
         "hovertemplate": "language=Chinese_Hongkong<br>lat=%{lat}<br>lng=%{lon}<extra></extra>",
         "lat": [
          37.331159
         ],
         "legendgroup": "Chinese_Hongkong",
         "lon": [
          -121.8737305
         ],
         "marker": {
          "color": "#19d3f3",
          "opacity": 0.6,
          "symbol": "circle"
         },
         "mode": "markers",
         "name": "Chinese_Hongkong",
         "showlegend": true,
         "type": "scattergeo"
        },
        {
         "geo": "geo",
         "hovertemplate": "language=Chinese_Taiwan<br>lat=%{lat}<br>lng=%{lon}<extra></extra>",
         "lat": [
          37.37839695
         ],
         "legendgroup": "Chinese_Taiwan",
         "lon": [
          -122.0238405
         ],
         "marker": {
          "color": "#FF6692",
          "opacity": 0.6,
          "symbol": "circle"
         },
         "mode": "markers",
         "name": "Chinese_Taiwan",
         "showlegend": true,
         "type": "scattergeo"
        },
        {
         "geo": "geo",
         "hovertemplate": "language=Chuvash<br>lat=%{lat}<br>lng=%{lon}<extra></extra>",
         "lat": [
          34.0207895
         ],
         "legendgroup": "Chuvash",
         "lon": [
          -118.4119065
         ],
         "marker": {
          "color": "#B6E880",
          "opacity": 0.6,
          "symbol": "circle"
         },
         "mode": "markers",
         "name": "Chuvash",
         "showlegend": true,
         "type": "scattergeo"
        },
        {
         "geo": "geo",
         "hovertemplate": "language=Czech<br>lat=%{lat}<br>lng=%{lon}<extra></extra>",
         "lat": [
          29.8384948
         ],
         "legendgroup": "Czech",
         "lon": [
          -95.4464865
         ],
         "marker": {
          "color": "#FF97FF",
          "opacity": 0.6,
          "symbol": "circle"
         },
         "mode": "markers",
         "name": "Czech",
         "showlegend": true,
         "type": "scattergeo"
        },
        {
         "geo": "geo",
         "hovertemplate": "language=Dhivehi<br>lat=%{lat}<br>lng=%{lon}<extra></extra>",
         "lat": [
          34.0207895
         ],
         "legendgroup": "Dhivehi",
         "lon": [
          -118.4119065
         ],
         "marker": {
          "color": "#FECB52",
          "opacity": 0.6,
          "symbol": "circle"
         },
         "mode": "markers",
         "name": "Dhivehi",
         "showlegend": true,
         "type": "scattergeo"
        },
        {
         "geo": "geo",
         "hovertemplate": "language=Dutch<br>lat=%{lat}<br>lng=%{lon}<extra></extra>",
         "lat": [
          45.484892
         ],
         "legendgroup": "Dutch",
         "lon": [
          -122.805579
         ],
         "marker": {
          "color": "#636efa",
          "opacity": 0.6,
          "symbol": "circle"
         },
         "mode": "markers",
         "name": "Dutch",
         "showlegend": true,
         "type": "scattergeo"
        },
        {
         "geo": "geo",
         "hovertemplate": "language=English<br>lat=%{lat}<br>lng=%{lon}<extra></extra>",
         "lat": [
          34.0207895
         ],
         "legendgroup": "English",
         "lon": [
          -118.4119065
         ],
         "marker": {
          "color": "#EF553B",
          "opacity": 0.6,
          "symbol": "circle"
         },
         "mode": "markers",
         "name": "English",
         "showlegend": true,
         "type": "scattergeo"
        },
        {
         "geo": "geo",
         "hovertemplate": "language=Esperanto<br>lat=%{lat}<br>lng=%{lon}<extra></extra>",
         "lat": [
          21.71069255
         ],
         "legendgroup": "Esperanto",
         "lon": [
          -79.54182859999999
         ],
         "marker": {
          "color": "#00cc96",
          "opacity": 0.6,
          "symbol": "circle"
         },
         "mode": "markers",
         "name": "Esperanto",
         "showlegend": true,
         "type": "scattergeo"
        },
        {
         "geo": "geo",
         "hovertemplate": "language=Estonian<br>lat=%{lat}<br>lng=%{lon}<extra></extra>",
         "lat": [
          31.1688935
         ],
         "legendgroup": "Estonian",
         "lon": [
          -100.0768885
         ],
         "marker": {
          "color": "#ab63fa",
          "opacity": 0.6,
          "symbol": "circle"
         },
         "mode": "markers",
         "name": "Estonian",
         "showlegend": true,
         "type": "scattergeo"
        },
        {
         "geo": "geo",
         "hovertemplate": "language=French<br>lat=%{lat}<br>lng=%{lon}<extra></extra>",
         "lat": [
          45.5578305
         ],
         "legendgroup": "French",
         "lon": [
          -73.723025
         ],
         "marker": {
          "color": "#FFA15A",
          "opacity": 0.6,
          "symbol": "circle"
         },
         "mode": "markers",
         "name": "French",
         "showlegend": true,
         "type": "scattergeo"
        },
        {
         "geo": "geo",
         "hovertemplate": "language=Frisian<br>lat=%{lat}<br>lng=%{lon}<extra></extra>",
         "lat": [
          34.0207895
         ],
         "legendgroup": "Frisian",
         "lon": [
          -95.4464865
         ],
         "marker": {
          "color": "#19d3f3",
          "opacity": 0.6,
          "symbol": "circle"
         },
         "mode": "markers",
         "name": "Frisian",
         "showlegend": true,
         "type": "scattergeo"
        },
        {
         "geo": "geo",
         "hovertemplate": "language=Georgian<br>lat=%{lat}<br>lng=%{lon}<extra></extra>",
         "lat": [
          40.572376000000006
         ],
         "legendgroup": "Georgian",
         "lon": [
          -74.153947
         ],
         "marker": {
          "color": "#FF6692",
          "opacity": 0.6,
          "symbol": "circle"
         },
         "mode": "markers",
         "name": "Georgian",
         "showlegend": true,
         "type": "scattergeo"
        },
        {
         "geo": "geo",
         "hovertemplate": "language=German<br>lat=%{lat}<br>lng=%{lon}<extra></extra>",
         "lat": [
          45.5578305
         ],
         "legendgroup": "German",
         "lon": [
          -73.723025
         ],
         "marker": {
          "color": "#B6E880",
          "opacity": 0.6,
          "symbol": "circle"
         },
         "mode": "markers",
         "name": "German",
         "showlegend": true,
         "type": "scattergeo"
        },
        {
         "geo": "geo",
         "hovertemplate": "language=Greek<br>lat=%{lat}<br>lng=%{lon}<extra></extra>",
         "lat": [
          34.0207895
         ],
         "legendgroup": "Greek",
         "lon": [
          -118.4119065
         ],
         "marker": {
          "color": "#FF97FF",
          "opacity": 0.6,
          "symbol": "circle"
         },
         "mode": "markers",
         "name": "Greek",
         "showlegend": true,
         "type": "scattergeo"
        },
        {
         "geo": "geo",
         "hovertemplate": "language=Hakha_Chin<br>lat=%{lat}<br>lng=%{lon}<extra></extra>",
         "lat": [
          29.8384948
         ],
         "legendgroup": "Hakha_Chin",
         "lon": [
          -95.4464865
         ],
         "marker": {
          "color": "#FECB52",
          "opacity": 0.6,
          "symbol": "circle"
         },
         "mode": "markers",
         "name": "Hakha_Chin",
         "showlegend": true,
         "type": "scattergeo"
        },
        {
         "geo": "geo",
         "hovertemplate": "language=Indonesian<br>lat=%{lat}<br>lng=%{lon}<extra></extra>",
         "lat": [
          33.842863
         ],
         "legendgroup": "Indonesian",
         "lon": [
          -117.851089
         ],
         "marker": {
          "color": "#636efa",
          "opacity": 0.6,
          "symbol": "circle"
         },
         "mode": "markers",
         "name": "Indonesian",
         "showlegend": true,
         "type": "scattergeo"
        },
        {
         "geo": "geo",
         "hovertemplate": "language=Interlingua<br>lat=%{lat}<br>lng=%{lon}<extra></extra>",
         "lat": [
          15.7724675
         ],
         "legendgroup": "Interlingua",
         "lon": [
          -90.2242213
         ],
         "marker": {
          "color": "#EF553B",
          "opacity": 0.6,
          "symbol": "circle"
         },
         "mode": "markers",
         "name": "Interlingua",
         "showlegend": true,
         "type": "scattergeo"
        },
        {
         "geo": "geo",
         "hovertemplate": "language=Italian<br>lat=%{lat}<br>lng=%{lon}<extra></extra>",
         "lat": [
          45.53640175
         ],
         "legendgroup": "Italian",
         "lon": [
          -122.63090815
         ],
         "marker": {
          "color": "#00cc96",
          "opacity": 0.6,
          "symbol": "circle"
         },
         "mode": "markers",
         "name": "Italian",
         "showlegend": true,
         "type": "scattergeo"
        },
        {
         "geo": "geo",
         "hovertemplate": "language=Japanese<br>lat=%{lat}<br>lng=%{lon}<extra></extra>",
         "lat": [
          21.3199435
         ],
         "legendgroup": "Japanese",
         "lon": [
          -157.799589
         ],
         "marker": {
          "color": "#ab63fa",
          "opacity": 0.6,
          "symbol": "circle"
         },
         "mode": "markers",
         "name": "Japanese",
         "showlegend": true,
         "type": "scattergeo"
        },
        {
         "geo": "geo",
         "hovertemplate": "language=Kabyle<br>lat=%{lat}<br>lng=%{lon}<extra></extra>",
         "lat": [
          34.0207895
         ],
         "legendgroup": "Kabyle",
         "lon": [
          -118.4119065
         ],
         "marker": {
          "color": "#FFA15A",
          "opacity": 0.6,
          "symbol": "circle"
         },
         "mode": "markers",
         "name": "Kabyle",
         "showlegend": true,
         "type": "scattergeo"
        },
        {
         "geo": "geo",
         "hovertemplate": "language=Kinyarwanda<br>lat=%{lat}<br>lng=%{lon}<extra></extra>",
         "lat": [
          34.0207895
         ],
         "legendgroup": "Kinyarwanda",
         "lon": [
          -118.4119065
         ],
         "marker": {
          "color": "#19d3f3",
          "opacity": 0.6,
          "symbol": "circle"
         },
         "mode": "markers",
         "name": "Kinyarwanda",
         "showlegend": true,
         "type": "scattergeo"
        },
        {
         "geo": "geo",
         "hovertemplate": "language=Kyrgyz<br>lat=%{lat}<br>lng=%{lon}<extra></extra>",
         "lat": [
          40.780709
         ],
         "legendgroup": "Kyrgyz",
         "lon": [
          -73.9685415
         ],
         "marker": {
          "color": "#FF6692",
          "opacity": 0.6,
          "symbol": "circle"
         },
         "mode": "markers",
         "name": "Kyrgyz",
         "showlegend": true,
         "type": "scattergeo"
        },
        {
         "geo": "geo",
         "hovertemplate": "language=Latvian<br>lat=%{lat}<br>lng=%{lon}<extra></extra>",
         "lat": [
          34.0207895
         ],
         "legendgroup": "Latvian",
         "lon": [
          -118.4119065
         ],
         "marker": {
          "color": "#B6E880",
          "opacity": 0.6,
          "symbol": "circle"
         },
         "mode": "markers",
         "name": "Latvian",
         "showlegend": true,
         "type": "scattergeo"
        },
        {
         "geo": "geo",
         "hovertemplate": "language=Maltese<br>lat=%{lat}<br>lng=%{lon}<extra></extra>",
         "lat": [
          40.4313474
         ],
         "legendgroup": "Maltese",
         "lon": [
          -80.0505398
         ],
         "marker": {
          "color": "#FF97FF",
          "opacity": 0.6,
          "symbol": "circle"
         },
         "mode": "markers",
         "name": "Maltese",
         "showlegend": true,
         "type": "scattergeo"
        },
        {
         "geo": "geo",
         "hovertemplate": "language=Mangolian<br>lat=%{lat}<br>lng=%{lon}<extra></extra>",
         "lat": [
          34.0207895
         ],
         "legendgroup": "Mangolian",
         "lon": [
          -118.4119065
         ],
         "marker": {
          "color": "#FECB52",
          "opacity": 0.6,
          "symbol": "circle"
         },
         "mode": "markers",
         "name": "Mangolian",
         "showlegend": true,
         "type": "scattergeo"
        },
        {
         "geo": "geo",
         "hovertemplate": "language=Persian<br>lat=%{lat}<br>lng=%{lon}<extra></extra>",
         "lat": [
          43.629311
         ],
         "legendgroup": "Persian",
         "lon": [
          -79.27256949999999
         ],
         "marker": {
          "color": "#636efa",
          "opacity": 0.6,
          "symbol": "circle"
         },
         "mode": "markers",
         "name": "Persian",
         "showlegend": true,
         "type": "scattergeo"
        },
        {
         "geo": "geo",
         "hovertemplate": "language=Polish<br>lat=%{lat}<br>lng=%{lon}<extra></extra>",
         "lat": [
          41.26269
         ],
         "legendgroup": "Polish",
         "lon": [
          -75.90665299999999
         ],
         "marker": {
          "color": "#EF553B",
          "opacity": 0.6,
          "symbol": "circle"
         },
         "mode": "markers",
         "name": "Polish",
         "showlegend": true,
         "type": "scattergeo"
        },
        {
         "geo": "geo",
         "hovertemplate": "language=Portuguese<br>lat=%{lat}<br>lng=%{lon}<extra></extra>",
         "lat": [
          40.780709
         ],
         "legendgroup": "Portuguese",
         "lon": [
          -73.9685415
         ],
         "marker": {
          "color": "#00cc96",
          "opacity": 0.6,
          "symbol": "circle"
         },
         "mode": "markers",
         "name": "Portuguese",
         "showlegend": true,
         "type": "scattergeo"
        },
        {
         "geo": "geo",
         "hovertemplate": "language=Romanian<br>lat=%{lat}<br>lng=%{lon}<extra></extra>",
         "lat": [
          34.0207895
         ],
         "legendgroup": "Romanian",
         "lon": [
          -118.4119065
         ],
         "marker": {
          "color": "#ab63fa",
          "opacity": 0.6,
          "symbol": "circle"
         },
         "mode": "markers",
         "name": "Romanian",
         "showlegend": true,
         "type": "scattergeo"
        },
        {
         "geo": "geo",
         "hovertemplate": "language=Romansh_Sursilvan<br>lat=%{lat}<br>lng=%{lon}<extra></extra>",
         "lat": [
          45.53640175
         ],
         "legendgroup": "Romansh_Sursilvan",
         "lon": [
          -122.63090815
         ],
         "marker": {
          "color": "#FFA15A",
          "opacity": 0.6,
          "symbol": "circle"
         },
         "mode": "markers",
         "name": "Romansh_Sursilvan",
         "showlegend": true,
         "type": "scattergeo"
        },
        {
         "geo": "geo",
         "hovertemplate": "language=Russian<br>lat=%{lat}<br>lng=%{lon}<extra></extra>",
         "lat": [
          29.7219891
         ],
         "legendgroup": "Russian",
         "lon": [
          -95.77871135
         ],
         "marker": {
          "color": "#19d3f3",
          "opacity": 0.6,
          "symbol": "circle"
         },
         "mode": "markers",
         "name": "Russian",
         "showlegend": true,
         "type": "scattergeo"
        },
        {
         "geo": "geo",
         "hovertemplate": "language=Sakha<br>lat=%{lat}<br>lng=%{lon}<extra></extra>",
         "lat": [
          34.0207895
         ],
         "legendgroup": "Sakha",
         "lon": [
          -118.4119065
         ],
         "marker": {
          "color": "#FF6692",
          "opacity": 0.6,
          "symbol": "circle"
         },
         "mode": "markers",
         "name": "Sakha",
         "showlegend": true,
         "type": "scattergeo"
        },
        {
         "geo": "geo",
         "hovertemplate": "language=Slovenian<br>lat=%{lat}<br>lng=%{lon}<extra></extra>",
         "lat": [
          33.28245035
         ],
         "legendgroup": "Slovenian",
         "lon": [
          -111.8808735
         ],
         "marker": {
          "color": "#B6E880",
          "opacity": 0.6,
          "symbol": "circle"
         },
         "mode": "markers",
         "name": "Slovenian",
         "showlegend": true,
         "type": "scattergeo"
        },
        {
         "geo": "geo",
         "hovertemplate": "language=Spanish<br>lat=%{lat}<br>lng=%{lon}<extra></extra>",
         "lat": [
          15.7724675
         ],
         "legendgroup": "Spanish",
         "lon": [
          -90.2242213
         ],
         "marker": {
          "color": "#FF97FF",
          "opacity": 0.6,
          "symbol": "circle"
         },
         "mode": "markers",
         "name": "Spanish",
         "showlegend": true,
         "type": "scattergeo"
        },
        {
         "geo": "geo",
         "hovertemplate": "language=Swedish<br>lat=%{lat}<br>lng=%{lon}<extra></extra>",
         "lat": [
          34.0207895
         ],
         "legendgroup": "Swedish",
         "lon": [
          -118.4119065
         ],
         "marker": {
          "color": "#FECB52",
          "opacity": 0.6,
          "symbol": "circle"
         },
         "mode": "markers",
         "name": "Swedish",
         "showlegend": true,
         "type": "scattergeo"
        },
        {
         "geo": "geo",
         "hovertemplate": "language=Tamil<br>lat=%{lat}<br>lng=%{lon}<extra></extra>",
         "lat": [
          42.35278649999999
         ],
         "legendgroup": "Tamil",
         "lon": [
          -83.09928799999999
         ],
         "marker": {
          "color": "#636efa",
          "opacity": 0.6,
          "symbol": "circle"
         },
         "mode": "markers",
         "name": "Tamil",
         "showlegend": true,
         "type": "scattergeo"
        },
        {
         "geo": "geo",
         "hovertemplate": "language=Tatar<br>lat=%{lat}<br>lng=%{lon}<extra></extra>",
         "lat": [
          43.629311
         ],
         "legendgroup": "Tatar",
         "lon": [
          -73.9685415
         ],
         "marker": {
          "color": "#EF553B",
          "opacity": 0.6,
          "symbol": "circle"
         },
         "mode": "markers",
         "name": "Tatar",
         "showlegend": true,
         "type": "scattergeo"
        },
        {
         "geo": "geo",
         "hovertemplate": "language=Turkish<br>lat=%{lat}<br>lng=%{lon}<extra></extra>",
         "lat": [
          40.655138
         ],
         "legendgroup": "Turkish",
         "lon": [
          -73.9487755
         ],
         "marker": {
          "color": "#00cc96",
          "opacity": 0.6,
          "symbol": "circle"
         },
         "mode": "markers",
         "name": "Turkish",
         "showlegend": true,
         "type": "scattergeo"
        },
        {
         "geo": "geo",
         "hovertemplate": "language=Ukranian<br>lat=%{lat}<br>lng=%{lon}<extra></extra>",
         "lat": [
          40.780709
         ],
         "legendgroup": "Ukranian",
         "lon": [
          -73.9685415
         ],
         "marker": {
          "color": "#ab63fa",
          "opacity": 0.6,
          "symbol": "circle"
         },
         "mode": "markers",
         "name": "Ukranian",
         "showlegend": true,
         "type": "scattergeo"
        },
        {
         "geo": "geo",
         "hovertemplate": "language=Welsh<br>lat=%{lat}<br>lng=%{lon}<extra></extra>",
         "lat": [
          29.8384948
         ],
         "legendgroup": "Welsh",
         "lon": [
          -95.4464865
         ],
         "marker": {
          "color": "#FFA15A",
          "opacity": 0.6,
          "symbol": "circle"
         },
         "mode": "markers",
         "name": "Welsh",
         "showlegend": true,
         "type": "scattergeo"
        }
       ],
       "layout": {
        "geo": {
         "center": {},
         "domain": {
          "x": [
           0,
           1
          ],
          "y": [
           0,
           1
          ]
         },
         "projection": {
          "type": "stereographic"
         },
         "scope": "north america"
        },
        "height": 900,
        "legend": {
         "title": {
          "text": "language"
         },
         "tracegroupgap": 0
        },
        "margin": {
         "t": 60
        },
        "template": {
         "data": {
          "bar": [
           {
            "error_x": {
             "color": "#2a3f5f"
            },
            "error_y": {
             "color": "#2a3f5f"
            },
            "marker": {
             "line": {
              "color": "#E5ECF6",
              "width": 0.5
             },
             "pattern": {
              "fillmode": "overlay",
              "size": 10,
              "solidity": 0.2
             }
            },
            "type": "bar"
           }
          ],
          "barpolar": [
           {
            "marker": {
             "line": {
              "color": "#E5ECF6",
              "width": 0.5
             },
             "pattern": {
              "fillmode": "overlay",
              "size": 10,
              "solidity": 0.2
             }
            },
            "type": "barpolar"
           }
          ],
          "carpet": [
           {
            "aaxis": {
             "endlinecolor": "#2a3f5f",
             "gridcolor": "white",
             "linecolor": "white",
             "minorgridcolor": "white",
             "startlinecolor": "#2a3f5f"
            },
            "baxis": {
             "endlinecolor": "#2a3f5f",
             "gridcolor": "white",
             "linecolor": "white",
             "minorgridcolor": "white",
             "startlinecolor": "#2a3f5f"
            },
            "type": "carpet"
           }
          ],
          "choropleth": [
           {
            "colorbar": {
             "outlinewidth": 0,
             "ticks": ""
            },
            "type": "choropleth"
           }
          ],
          "contour": [
           {
            "colorbar": {
             "outlinewidth": 0,
             "ticks": ""
            },
            "colorscale": [
             [
              0,
              "#0d0887"
             ],
             [
              0.1111111111111111,
              "#46039f"
             ],
             [
              0.2222222222222222,
              "#7201a8"
             ],
             [
              0.3333333333333333,
              "#9c179e"
             ],
             [
              0.4444444444444444,
              "#bd3786"
             ],
             [
              0.5555555555555556,
              "#d8576b"
             ],
             [
              0.6666666666666666,
              "#ed7953"
             ],
             [
              0.7777777777777778,
              "#fb9f3a"
             ],
             [
              0.8888888888888888,
              "#fdca26"
             ],
             [
              1,
              "#f0f921"
             ]
            ],
            "type": "contour"
           }
          ],
          "contourcarpet": [
           {
            "colorbar": {
             "outlinewidth": 0,
             "ticks": ""
            },
            "type": "contourcarpet"
           }
          ],
          "heatmap": [
           {
            "colorbar": {
             "outlinewidth": 0,
             "ticks": ""
            },
            "colorscale": [
             [
              0,
              "#0d0887"
             ],
             [
              0.1111111111111111,
              "#46039f"
             ],
             [
              0.2222222222222222,
              "#7201a8"
             ],
             [
              0.3333333333333333,
              "#9c179e"
             ],
             [
              0.4444444444444444,
              "#bd3786"
             ],
             [
              0.5555555555555556,
              "#d8576b"
             ],
             [
              0.6666666666666666,
              "#ed7953"
             ],
             [
              0.7777777777777778,
              "#fb9f3a"
             ],
             [
              0.8888888888888888,
              "#fdca26"
             ],
             [
              1,
              "#f0f921"
             ]
            ],
            "type": "heatmap"
           }
          ],
          "heatmapgl": [
           {
            "colorbar": {
             "outlinewidth": 0,
             "ticks": ""
            },
            "colorscale": [
             [
              0,
              "#0d0887"
             ],
             [
              0.1111111111111111,
              "#46039f"
             ],
             [
              0.2222222222222222,
              "#7201a8"
             ],
             [
              0.3333333333333333,
              "#9c179e"
             ],
             [
              0.4444444444444444,
              "#bd3786"
             ],
             [
              0.5555555555555556,
              "#d8576b"
             ],
             [
              0.6666666666666666,
              "#ed7953"
             ],
             [
              0.7777777777777778,
              "#fb9f3a"
             ],
             [
              0.8888888888888888,
              "#fdca26"
             ],
             [
              1,
              "#f0f921"
             ]
            ],
            "type": "heatmapgl"
           }
          ],
          "histogram": [
           {
            "marker": {
             "pattern": {
              "fillmode": "overlay",
              "size": 10,
              "solidity": 0.2
             }
            },
            "type": "histogram"
           }
          ],
          "histogram2d": [
           {
            "colorbar": {
             "outlinewidth": 0,
             "ticks": ""
            },
            "colorscale": [
             [
              0,
              "#0d0887"
             ],
             [
              0.1111111111111111,
              "#46039f"
             ],
             [
              0.2222222222222222,
              "#7201a8"
             ],
             [
              0.3333333333333333,
              "#9c179e"
             ],
             [
              0.4444444444444444,
              "#bd3786"
             ],
             [
              0.5555555555555556,
              "#d8576b"
             ],
             [
              0.6666666666666666,
              "#ed7953"
             ],
             [
              0.7777777777777778,
              "#fb9f3a"
             ],
             [
              0.8888888888888888,
              "#fdca26"
             ],
             [
              1,
              "#f0f921"
             ]
            ],
            "type": "histogram2d"
           }
          ],
          "histogram2dcontour": [
           {
            "colorbar": {
             "outlinewidth": 0,
             "ticks": ""
            },
            "colorscale": [
             [
              0,
              "#0d0887"
             ],
             [
              0.1111111111111111,
              "#46039f"
             ],
             [
              0.2222222222222222,
              "#7201a8"
             ],
             [
              0.3333333333333333,
              "#9c179e"
             ],
             [
              0.4444444444444444,
              "#bd3786"
             ],
             [
              0.5555555555555556,
              "#d8576b"
             ],
             [
              0.6666666666666666,
              "#ed7953"
             ],
             [
              0.7777777777777778,
              "#fb9f3a"
             ],
             [
              0.8888888888888888,
              "#fdca26"
             ],
             [
              1,
              "#f0f921"
             ]
            ],
            "type": "histogram2dcontour"
           }
          ],
          "mesh3d": [
           {
            "colorbar": {
             "outlinewidth": 0,
             "ticks": ""
            },
            "type": "mesh3d"
           }
          ],
          "parcoords": [
           {
            "line": {
             "colorbar": {
              "outlinewidth": 0,
              "ticks": ""
             }
            },
            "type": "parcoords"
           }
          ],
          "pie": [
           {
            "automargin": true,
            "type": "pie"
           }
          ],
          "scatter": [
           {
            "fillpattern": {
             "fillmode": "overlay",
             "size": 10,
             "solidity": 0.2
            },
            "type": "scatter"
           }
          ],
          "scatter3d": [
           {
            "line": {
             "colorbar": {
              "outlinewidth": 0,
              "ticks": ""
             }
            },
            "marker": {
             "colorbar": {
              "outlinewidth": 0,
              "ticks": ""
             }
            },
            "type": "scatter3d"
           }
          ],
          "scattercarpet": [
           {
            "marker": {
             "colorbar": {
              "outlinewidth": 0,
              "ticks": ""
             }
            },
            "type": "scattercarpet"
           }
          ],
          "scattergeo": [
           {
            "marker": {
             "colorbar": {
              "outlinewidth": 0,
              "ticks": ""
             }
            },
            "type": "scattergeo"
           }
          ],
          "scattergl": [
           {
            "marker": {
             "colorbar": {
              "outlinewidth": 0,
              "ticks": ""
             }
            },
            "type": "scattergl"
           }
          ],
          "scattermapbox": [
           {
            "marker": {
             "colorbar": {
              "outlinewidth": 0,
              "ticks": ""
             }
            },
            "type": "scattermapbox"
           }
          ],
          "scatterpolar": [
           {
            "marker": {
             "colorbar": {
              "outlinewidth": 0,
              "ticks": ""
             }
            },
            "type": "scatterpolar"
           }
          ],
          "scatterpolargl": [
           {
            "marker": {
             "colorbar": {
              "outlinewidth": 0,
              "ticks": ""
             }
            },
            "type": "scatterpolargl"
           }
          ],
          "scatterternary": [
           {
            "marker": {
             "colorbar": {
              "outlinewidth": 0,
              "ticks": ""
             }
            },
            "type": "scatterternary"
           }
          ],
          "surface": [
           {
            "colorbar": {
             "outlinewidth": 0,
             "ticks": ""
            },
            "colorscale": [
             [
              0,
              "#0d0887"
             ],
             [
              0.1111111111111111,
              "#46039f"
             ],
             [
              0.2222222222222222,
              "#7201a8"
             ],
             [
              0.3333333333333333,
              "#9c179e"
             ],
             [
              0.4444444444444444,
              "#bd3786"
             ],
             [
              0.5555555555555556,
              "#d8576b"
             ],
             [
              0.6666666666666666,
              "#ed7953"
             ],
             [
              0.7777777777777778,
              "#fb9f3a"
             ],
             [
              0.8888888888888888,
              "#fdca26"
             ],
             [
              1,
              "#f0f921"
             ]
            ],
            "type": "surface"
           }
          ],
          "table": [
           {
            "cells": {
             "fill": {
              "color": "#EBF0F8"
             },
             "line": {
              "color": "white"
             }
            },
            "header": {
             "fill": {
              "color": "#C8D4E3"
             },
             "line": {
              "color": "white"
             }
            },
            "type": "table"
           }
          ]
         },
         "layout": {
          "annotationdefaults": {
           "arrowcolor": "#2a3f5f",
           "arrowhead": 0,
           "arrowwidth": 1
          },
          "autotypenumbers": "strict",
          "coloraxis": {
           "colorbar": {
            "outlinewidth": 0,
            "ticks": ""
           }
          },
          "colorscale": {
           "diverging": [
            [
             0,
             "#8e0152"
            ],
            [
             0.1,
             "#c51b7d"
            ],
            [
             0.2,
             "#de77ae"
            ],
            [
             0.3,
             "#f1b6da"
            ],
            [
             0.4,
             "#fde0ef"
            ],
            [
             0.5,
             "#f7f7f7"
            ],
            [
             0.6,
             "#e6f5d0"
            ],
            [
             0.7,
             "#b8e186"
            ],
            [
             0.8,
             "#7fbc41"
            ],
            [
             0.9,
             "#4d9221"
            ],
            [
             1,
             "#276419"
            ]
           ],
           "sequential": [
            [
             0,
             "#0d0887"
            ],
            [
             0.1111111111111111,
             "#46039f"
            ],
            [
             0.2222222222222222,
             "#7201a8"
            ],
            [
             0.3333333333333333,
             "#9c179e"
            ],
            [
             0.4444444444444444,
             "#bd3786"
            ],
            [
             0.5555555555555556,
             "#d8576b"
            ],
            [
             0.6666666666666666,
             "#ed7953"
            ],
            [
             0.7777777777777778,
             "#fb9f3a"
            ],
            [
             0.8888888888888888,
             "#fdca26"
            ],
            [
             1,
             "#f0f921"
            ]
           ],
           "sequentialminus": [
            [
             0,
             "#0d0887"
            ],
            [
             0.1111111111111111,
             "#46039f"
            ],
            [
             0.2222222222222222,
             "#7201a8"
            ],
            [
             0.3333333333333333,
             "#9c179e"
            ],
            [
             0.4444444444444444,
             "#bd3786"
            ],
            [
             0.5555555555555556,
             "#d8576b"
            ],
            [
             0.6666666666666666,
             "#ed7953"
            ],
            [
             0.7777777777777778,
             "#fb9f3a"
            ],
            [
             0.8888888888888888,
             "#fdca26"
            ],
            [
             1,
             "#f0f921"
            ]
           ]
          },
          "colorway": [
           "#636efa",
           "#EF553B",
           "#00cc96",
           "#ab63fa",
           "#FFA15A",
           "#19d3f3",
           "#FF6692",
           "#B6E880",
           "#FF97FF",
           "#FECB52"
          ],
          "font": {
           "color": "#2a3f5f"
          },
          "geo": {
           "bgcolor": "white",
           "lakecolor": "white",
           "landcolor": "#E5ECF6",
           "showlakes": true,
           "showland": true,
           "subunitcolor": "white"
          },
          "hoverlabel": {
           "align": "left"
          },
          "hovermode": "closest",
          "mapbox": {
           "style": "light"
          },
          "paper_bgcolor": "white",
          "plot_bgcolor": "#E5ECF6",
          "polar": {
           "angularaxis": {
            "gridcolor": "white",
            "linecolor": "white",
            "ticks": ""
           },
           "bgcolor": "#E5ECF6",
           "radialaxis": {
            "gridcolor": "white",
            "linecolor": "white",
            "ticks": ""
           }
          },
          "scene": {
           "xaxis": {
            "backgroundcolor": "#E5ECF6",
            "gridcolor": "white",
            "gridwidth": 2,
            "linecolor": "white",
            "showbackground": true,
            "ticks": "",
            "zerolinecolor": "white"
           },
           "yaxis": {
            "backgroundcolor": "#E5ECF6",
            "gridcolor": "white",
            "gridwidth": 2,
            "linecolor": "white",
            "showbackground": true,
            "ticks": "",
            "zerolinecolor": "white"
           },
           "zaxis": {
            "backgroundcolor": "#E5ECF6",
            "gridcolor": "white",
            "gridwidth": 2,
            "linecolor": "white",
            "showbackground": true,
            "ticks": "",
            "zerolinecolor": "white"
           }
          },
          "shapedefaults": {
           "line": {
            "color": "#2a3f5f"
           }
          },
          "ternary": {
           "aaxis": {
            "gridcolor": "white",
            "linecolor": "white",
            "ticks": ""
           },
           "baxis": {
            "gridcolor": "white",
            "linecolor": "white",
            "ticks": ""
           },
           "bgcolor": "#E5ECF6",
           "caxis": {
            "gridcolor": "white",
            "linecolor": "white",
            "ticks": ""
           }
          },
          "title": {
           "x": 0.05
          },
          "xaxis": {
           "automargin": true,
           "gridcolor": "white",
           "linecolor": "white",
           "ticks": "",
           "title": {
            "standoff": 15
           },
           "zerolinecolor": "white",
           "zerolinewidth": 2
          },
          "yaxis": {
           "automargin": true,
           "gridcolor": "white",
           "linecolor": "white",
           "ticks": "",
           "title": {
            "standoff": 15
           },
           "zerolinecolor": "white",
           "zerolinewidth": 2
          }
         }
        },
        "width": 1400
       }
      }
     },
     "metadata": {},
     "output_type": "display_data"
    }
   ],
   "source": [
    "px.scatter_geo(lang_mode, color='language', lat='lat', lon='lng', width=1400, height=900, opacity=.6, scope='north america', projection='stereographic')"
   ]
  },
  {
   "cell_type": "code",
   "execution_count": 5,
   "metadata": {},
   "outputs": [],
   "source": [
    "fig = px.scatter_geo(df_merge, color='language', lat='lat', lon='lng', width=1400, height=900, opacity=.6, scope='north america', projection='stereographic')"
   ]
  },
  {
   "cell_type": "code",
   "execution_count": 14,
   "metadata": {},
   "outputs": [],
   "source": [
    "fig = px.scatter_geo(df_merge, color='sent', lat='lat', lon='lng', width=1400, height=900, opacity=.6, scope='north america', projection='stereographic')"
   ]
  },
  {
   "cell_type": "code",
   "execution_count": 16,
   "metadata": {},
   "outputs": [],
   "source": [
    "fig = px.scatter_geo(df_merge, color='topic', lat='lat', lon='lng', width=1400, height=900, opacity=.6, scope='north america', projection='stereographic')"
   ]
  },
  {
   "cell_type": "code",
   "execution_count": 28,
   "metadata": {},
   "outputs": [],
   "source": [
    "fig = px.scatter_geo(df_merge, color='user_id', lat='lat', lon='lng', width=1400, height=900, opacity=.6, scope='north america', projection='stereographic')"
   ]
  },
  {
   "cell_type": "code",
   "execution_count": 9,
   "metadata": {},
   "outputs": [],
   "source": [
    "user_mode = df_merge.groupby('user_id')[['lat', 'lng']].agg(mode)"
   ]
  },
  {
   "cell_type": "code",
   "execution_count": 10,
   "metadata": {},
   "outputs": [],
   "source": [
    "user_mode.reset_index(inplace=True)"
   ]
  },
  {
   "cell_type": "code",
   "execution_count": 11,
   "metadata": {},
   "outputs": [
    {
     "data": {
      "text/html": [
       "<div>\n",
       "<style scoped>\n",
       "    .dataframe tbody tr th:only-of-type {\n",
       "        vertical-align: middle;\n",
       "    }\n",
       "\n",
       "    .dataframe tbody tr th {\n",
       "        vertical-align: top;\n",
       "    }\n",
       "\n",
       "    .dataframe thead th {\n",
       "        text-align: right;\n",
       "    }\n",
       "</style>\n",
       "<table border=\"1\" class=\"dataframe\">\n",
       "  <thead>\n",
       "    <tr style=\"text-align: right;\">\n",
       "      <th></th>\n",
       "      <th>user_id</th>\n",
       "      <th>lat</th>\n",
       "      <th>lng</th>\n",
       "    </tr>\n",
       "  </thead>\n",
       "  <tbody>\n",
       "    <tr>\n",
       "      <th>0</th>\n",
       "      <td>0</td>\n",
       "      <td>41.117937</td>\n",
       "      <td>-77.604684</td>\n",
       "    </tr>\n",
       "    <tr>\n",
       "      <th>1</th>\n",
       "      <td>1</td>\n",
       "      <td>30.323346</td>\n",
       "      <td>-97.754724</td>\n",
       "    </tr>\n",
       "    <tr>\n",
       "      <th>2</th>\n",
       "      <td>2</td>\n",
       "      <td>40.780709</td>\n",
       "      <td>-73.968542</td>\n",
       "    </tr>\n",
       "    <tr>\n",
       "      <th>3</th>\n",
       "      <td>3</td>\n",
       "      <td>44.145436</td>\n",
       "      <td>-120.583401</td>\n",
       "    </tr>\n",
       "    <tr>\n",
       "      <th>4</th>\n",
       "      <td>4</td>\n",
       "      <td>49.257639</td>\n",
       "      <td>-123.123581</td>\n",
       "    </tr>\n",
       "    <tr>\n",
       "      <th>...</th>\n",
       "      <td>...</td>\n",
       "      <td>...</td>\n",
       "      <td>...</td>\n",
       "    </tr>\n",
       "    <tr>\n",
       "      <th>41138</th>\n",
       "      <td>41138</td>\n",
       "      <td>43.629311</td>\n",
       "      <td>-79.272570</td>\n",
       "    </tr>\n",
       "    <tr>\n",
       "      <th>41139</th>\n",
       "      <td>41139</td>\n",
       "      <td>33.884969</td>\n",
       "      <td>-118.222017</td>\n",
       "    </tr>\n",
       "    <tr>\n",
       "      <th>41140</th>\n",
       "      <td>41140</td>\n",
       "      <td>33.938045</td>\n",
       "      <td>-118.194026</td>\n",
       "    </tr>\n",
       "    <tr>\n",
       "      <th>41141</th>\n",
       "      <td>41141</td>\n",
       "      <td>45.248791</td>\n",
       "      <td>-75.800142</td>\n",
       "    </tr>\n",
       "    <tr>\n",
       "      <th>41142</th>\n",
       "      <td>41142</td>\n",
       "      <td>41.500729</td>\n",
       "      <td>-99.680903</td>\n",
       "    </tr>\n",
       "  </tbody>\n",
       "</table>\n",
       "<p>41143 rows × 3 columns</p>\n",
       "</div>"
      ],
      "text/plain": [
       "       user_id        lat         lng\n",
       "0            0  41.117937  -77.604684\n",
       "1            1  30.323346  -97.754724\n",
       "2            2  40.780709  -73.968542\n",
       "3            3  44.145436 -120.583401\n",
       "4            4  49.257639 -123.123581\n",
       "...        ...        ...         ...\n",
       "41138    41138  43.629311  -79.272570\n",
       "41139    41139  33.884969 -118.222017\n",
       "41140    41140  33.938045 -118.194026\n",
       "41141    41141  45.248791  -75.800142\n",
       "41142    41142  41.500729  -99.680903\n",
       "\n",
       "[41143 rows x 3 columns]"
      ]
     },
     "execution_count": 11,
     "metadata": {},
     "output_type": "execute_result"
    }
   ],
   "source": [
    "user_mode"
   ]
  },
  {
   "cell_type": "code",
   "execution_count": 12,
   "metadata": {},
   "outputs": [],
   "source": [
    "id_scaler = StandardScaler()"
   ]
  },
  {
   "cell_type": "code",
   "execution_count": 13,
   "metadata": {},
   "outputs": [],
   "source": [
    "user_mode['user_id'] = id_scaler.fit_transform(user_mode[['user_id']])"
   ]
  },
  {
   "cell_type": "code",
   "execution_count": 14,
   "metadata": {},
   "outputs": [
    {
     "data": {
      "text/plain": [
       "-1.732009    1\n",
       " 0.581883    1\n",
       " 0.576999    1\n",
       " 0.577084    1\n",
       " 0.577168    1\n",
       "            ..\n",
       "-0.577168    1\n",
       "-0.577084    1\n",
       "-0.576999    1\n",
       "-0.576915    1\n",
       " 1.732009    1\n",
       "Name: user_id, Length: 41143, dtype: int64"
      ]
     },
     "execution_count": 14,
     "metadata": {},
     "output_type": "execute_result"
    }
   ],
   "source": [
    "user_mode.user_id.value_counts()"
   ]
  },
  {
   "cell_type": "code",
   "execution_count": 15,
   "metadata": {},
   "outputs": [],
   "source": [
    "fig = px.scatter_geo(user_mode, animation_frame='user_id', lat='lat', lon='lng', width=1400, height=900, opacity=.6, scope='north america', projection='stereographic')"
   ]
  },
  {
   "cell_type": "code",
   "execution_count": null,
   "metadata": {},
   "outputs": [],
   "source": [
    "fig.write_html('maps/user_locations.html')"
   ]
  },
  {
   "cell_type": "code",
   "execution_count": null,
   "metadata": {},
   "outputs": [],
   "source": []
  }
 ],
 "metadata": {
  "kernelspec": {
   "display_name": "base",
   "language": "python",
   "name": "python3"
  },
  "language_info": {
   "codemirror_mode": {
    "name": "ipython",
    "version": 3
   },
   "file_extension": ".py",
   "mimetype": "text/x-python",
   "name": "python",
   "nbconvert_exporter": "python",
   "pygments_lexer": "ipython3",
   "version": "3.9.12"
  },
  "orig_nbformat": 4
 },
 "nbformat": 4,
 "nbformat_minor": 2
}
