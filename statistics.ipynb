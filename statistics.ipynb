{
 "cells": [
  {
   "attachments": {},
   "cell_type": "markdown",
   "metadata": {},
   "source": [
    "## Statistical Testing"
   ]
  },
  {
   "cell_type": "code",
   "execution_count": null,
   "metadata": {},
   "outputs": [],
   "source": [
    "distances_km_1 = pd.read_csv('inputs/distances/distances_km_-1.csv')\n",
    "distances_km_2 = pd.read_csv('inputs/distances/distances_km_-2.csv')\n",
    "distances_km_4 = pd.read_csv('inputs/distances/distances_km_-4.csv')"
   ]
  },
  {
   "cell_type": "code",
   "execution_count": null,
   "metadata": {},
   "outputs": [],
   "source": [
    "dist_merge = pd.concat([distances_km_final, distances_km_1, distances_km_2, distances_km_4], axis=1)"
   ]
  },
  {
   "cell_type": "code",
   "execution_count": null,
   "metadata": {},
   "outputs": [],
   "source": [
    "names=['final', 'without_embeddings', 'without_user_id', 'without_timestamps', 'without_nlp_features']"
   ]
  },
  {
   "cell_type": "code",
   "execution_count": null,
   "metadata": {},
   "outputs": [],
   "source": [
    "dist_merge.columns = ['final', 'without_embeddings', '0', 'without_user_id', 'without_nlp_features']"
   ]
  },
  {
   "cell_type": "code",
   "execution_count": null,
   "metadata": {},
   "outputs": [
    {
     "data": {
      "text/html": [
       "<div>\n",
       "<style scoped>\n",
       "    .dataframe tbody tr th:only-of-type {\n",
       "        vertical-align: middle;\n",
       "    }\n",
       "\n",
       "    .dataframe tbody tr th {\n",
       "        vertical-align: top;\n",
       "    }\n",
       "\n",
       "    .dataframe thead th {\n",
       "        text-align: right;\n",
       "    }\n",
       "</style>\n",
       "<table border=\"1\" class=\"dataframe\">\n",
       "  <thead>\n",
       "    <tr style=\"text-align: right;\">\n",
       "      <th></th>\n",
       "      <th>final</th>\n",
       "      <th>without_embeddings</th>\n",
       "      <th>without_user_id</th>\n",
       "      <th>without_nlp_features</th>\n",
       "    </tr>\n",
       "  </thead>\n",
       "  <tbody>\n",
       "    <tr>\n",
       "      <th>0</th>\n",
       "      <td>2095.552175</td>\n",
       "      <td>4715.551886</td>\n",
       "      <td>4885.437885</td>\n",
       "      <td>2840.502542</td>\n",
       "    </tr>\n",
       "    <tr>\n",
       "      <th>1</th>\n",
       "      <td>2394.981473</td>\n",
       "      <td>4693.765782</td>\n",
       "      <td>4860.387458</td>\n",
       "      <td>2892.731925</td>\n",
       "    </tr>\n",
       "    <tr>\n",
       "      <th>2</th>\n",
       "      <td>2308.691891</td>\n",
       "      <td>4661.110198</td>\n",
       "      <td>4805.421611</td>\n",
       "      <td>2953.447250</td>\n",
       "    </tr>\n",
       "    <tr>\n",
       "      <th>3</th>\n",
       "      <td>4329.094629</td>\n",
       "      <td>4773.160645</td>\n",
       "      <td>4899.811230</td>\n",
       "      <td>3720.192788</td>\n",
       "    </tr>\n",
       "    <tr>\n",
       "      <th>4</th>\n",
       "      <td>4394.310630</td>\n",
       "      <td>4880.547774</td>\n",
       "      <td>4995.652313</td>\n",
       "      <td>3888.436867</td>\n",
       "    </tr>\n",
       "  </tbody>\n",
       "</table>\n",
       "</div>"
      ],
      "text/plain": [
       "         final  without_embeddings  without_user_id  without_nlp_features\n",
       "0  2095.552175         4715.551886      4885.437885           2840.502542\n",
       "1  2394.981473         4693.765782      4860.387458           2892.731925\n",
       "2  2308.691891         4661.110198      4805.421611           2953.447250\n",
       "3  4329.094629         4773.160645      4899.811230           3720.192788\n",
       "4  4394.310630         4880.547774      4995.652313           3888.436867"
      ]
     },
     "metadata": {},
     "output_type": "display_data"
    }
   ],
   "source": [
    "dist_merge.drop(columns=['0'], inplace=True)\n",
    "dist_merge.head()"
   ]
  },
  {
   "cell_type": "code",
   "execution_count": null,
   "metadata": {},
   "outputs": [
    {
     "data": {
      "text/plain": [
       "final                   0\n",
       "without_embeddings      0\n",
       "without_user_id         0\n",
       "without_nlp_features    0\n",
       "dtype: int64"
      ]
     },
     "metadata": {},
     "output_type": "display_data"
    }
   ],
   "source": [
    "dist_merge.isna().sum()"
   ]
  },
  {
   "cell_type": "code",
   "execution_count": null,
   "metadata": {},
   "outputs": [],
   "source": [
    "#px.box(dist_merge, color_discrete_sequence=[\"indigo\"], template='plotly_white')\n"
   ]
  },
  {
   "attachments": {},
   "cell_type": "markdown",
   "metadata": {},
   "source": [
    "    Null Hypothesis: The sample distances differences are similar"
   ]
  }
 ],
 "metadata": {
  "language_info": {
   "name": "python"
  },
  "orig_nbformat": 4
 },
 "nbformat": 4,
 "nbformat_minor": 2
}
